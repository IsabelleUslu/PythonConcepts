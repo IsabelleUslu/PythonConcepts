{
 "cells": [
  {
   "cell_type": "markdown",
   "id": "37d4b3a7-ce85-4105-96b8-ef1def94c75c",
   "metadata": {},
   "source": [
    "# 1. Introduction to Functions"
   ]
  },
  {
   "cell_type": "markdown",
   "id": "4f1e47a0-8996-4efe-97d2-38476ea946de",
   "metadata": {},
   "source": [
    "- What is a Function?<br>\n",
    " \n",
    "    - A function is a reusable block of code that performs a specific task. It allows you to write DRY (Don't Repeat Yourself) code.<br><br>\n",
    "      \n",
    "\n",
    "- Syntax of a Function"
   ]
  },
  {
   "cell_type": "code",
   "execution_count": 1,
   "id": "f3062b44-74e9-414f-a696-9d8a63a9eb1d",
   "metadata": {},
   "outputs": [],
   "source": [
    "# Basic structure of a function\n",
    "\n",
    "def function_name(parameters):\n",
    "    # code blocks to fill in - whatever you want your function to be doing for you\n",
    "    return result\n"
   ]
  },
  {
   "cell_type": "code",
   "execution_count": 2,
   "id": "98c2e8af-10f7-45be-9373-6799c11a1e55",
   "metadata": {},
   "outputs": [
    {
     "name": "stdout",
     "output_type": "stream",
     "text": [
      "16\n"
     ]
    }
   ],
   "source": [
    "# Example\n",
    "\n",
    "def square(num):\n",
    "    return num * num\n",
    "\n",
    "print(square(4))\n"
   ]
  },
  {
   "cell_type": "markdown",
   "id": "0df8a579-e69f-49a9-9727-0b903b53b27c",
   "metadata": {},
   "source": [
    "## 2. Types of Functions\n",
    "<br>\n",
    "\n",
    "**1. Built-in Functions:** Functions that come with Python, like len(), sum(), print().\n",
    "    \n",
    "<br>\n",
    "\n",
    "**2. User-defined Functions:** Functions you create to perform custom tasks.\n",
    "    \n",
    "<br>\n",
    "\n",
    "**3. Anonymous Functions (Lambdas):** Short, one-line functions, usually used for simple operations.\n",
    "<br>"
   ]
  },
  {
   "cell_type": "code",
   "execution_count": 3,
   "id": "7868947f-4582-40f3-a98e-fab0b4602a69",
   "metadata": {},
   "outputs": [
    {
     "name": "stdout",
     "output_type": "stream",
     "text": [
      "8\n"
     ]
    }
   ],
   "source": [
    "# User defined function example - we want to add 2 numbers; function will take 2 numbers and will return the summation of those 2 numbers\n",
    "\n",
    "def add(a, b):\n",
    "    return a + b\n",
    "    \n",
    "# Testing the function\n",
    "print(add(5, 3))\n"
   ]
  },
  {
   "cell_type": "code",
   "execution_count": 4,
   "id": "a73c5a06-1360-4b73-805e-30f581a306cc",
   "metadata": {},
   "outputs": [
    {
     "name": "stdout",
     "output_type": "stream",
     "text": [
      "6\n"
     ]
    }
   ],
   "source": [
    "# Lambda function exapmle\n",
    "\n",
    "multiply = lambda x, y: x * y\n",
    "\n",
    "print(multiply(2, 3))\n"
   ]
  },
  {
   "cell_type": "markdown",
   "id": "481e5a5b-1760-4f05-b7e0-63c2406ee81f",
   "metadata": {},
   "source": [
    "**Exercise:** Define a function to convert Celsius to Fahrenheit, and apply it to a list of temperatures [0, 20, 35, 100]."
   ]
  },
  {
   "cell_type": "markdown",
   "id": "85526e6b-3ab8-49ac-8e67-9b2937684747",
   "metadata": {},
   "source": [
    "## 3. Parameters and Arguments\n",
    "<br>\n",
    "\n",
    "**Positional Arguments:** Arguments passed in the order they are defined.\n",
    "<br>\n",
    "\n",
    "**Keyword Arguments:** Arguments passed with names, making the order flexible.\n",
    "<br>\n",
    "\n",
    "**Default Arguments:** Arguments with default values if not provided by the caller.\n",
    "<br>\n",
    "\n",
    "**Variable-Length Arguments:** Using *args and **kwargs to accept a varying number of positional and keyword arguments."
   ]
  },
  {
   "cell_type": "code",
   "execution_count": 5,
   "id": "ef83cd7c-38dc-4a4a-b62f-da0ec37be4d4",
   "metadata": {},
   "outputs": [
    {
     "name": "stdout",
     "output_type": "stream",
     "text": [
      "Hello, Alice!\n",
      "Hi, Bob!\n"
     ]
    }
   ],
   "source": [
    "# Default and keyword arguments\n",
    "\n",
    "def greet(name, greeting=\"Hello\"): # If the user does not define a greeting argument, the function will return the default which is \"Hello\"\n",
    "    return f\"{greeting}, {name}!\"\n",
    "\n",
    "print(greet(\"Alice\")) # will return the default greeting\n",
    "print(greet(\"Bob\", greeting=\"Hi\")) # will return the user defined greeting, \"Hi\"\n"
   ]
  },
  {
   "cell_type": "markdown",
   "id": "bb3db18a-e9ba-4edf-9d5c-ff81a8b1a5e5",
   "metadata": {},
   "source": [
    "**Exercise:** Create a function summarize that takes any number of numeric arguments and returns their sum and average."
   ]
  },
  {
   "cell_type": "markdown",
   "id": "2b8683a5-61e4-48ed-ad67-95d70900e00a",
   "metadata": {},
   "source": [
    "## 4. Return Statement\n",
    "<br>\n",
    "\n",
    "**Single Return:** Returns a single result.\n",
    "<br>\n",
    "\n",
    "**Multiple Returns:** Functions can return multiple values as tuples."
   ]
  },
  {
   "cell_type": "code",
   "execution_count": 6,
   "id": "b01c58ec-7ef2-43a9-9197-a3748d475d09",
   "metadata": {},
   "outputs": [
    {
     "name": "stdout",
     "output_type": "stream",
     "text": [
      "(60, 20.0)\n"
     ]
    }
   ],
   "source": [
    "# Example of a function where it would retun multiple variable\n",
    "\n",
    "def calculate_stats(numbers):\n",
    "    total = sum(numbers)\n",
    "    average = total / len(numbers)\n",
    "    return total, average\n",
    "\n",
    "result = calculate_stats([10, 20, 30])\n",
    "print(result)\n"
   ]
  },
  {
   "cell_type": "code",
   "execution_count": 7,
   "id": "c671edbd-c6b2-4a18-8a52-468f3c695e73",
   "metadata": {},
   "outputs": [],
   "source": [
    "total, average = calculate_stats([10, 20, 30])"
   ]
  },
  {
   "cell_type": "code",
   "execution_count": 8,
   "id": "c6e489d9-a4ba-4f68-b8fb-56d7cc62904b",
   "metadata": {},
   "outputs": [
    {
     "data": {
      "text/plain": [
       "(60, 20.0)"
      ]
     },
     "execution_count": 8,
     "metadata": {},
     "output_type": "execute_result"
    }
   ],
   "source": [
    "total, average"
   ]
  },
  {
   "cell_type": "markdown",
   "id": "ed96966a-d3fc-4407-b0c0-4419f1c25a54",
   "metadata": {},
   "source": [
    "**Exercise:** Create a function that returns the maximum and minimum from a list of numbers."
   ]
  },
  {
   "cell_type": "markdown",
   "id": "076470cd-2a3a-4716-8201-55cfa6059fc2",
   "metadata": {},
   "source": [
    "## 5. Scope of Variables\n",
    "<br>\n",
    "\n",
    "**Local Variables:** Defined within a function and accessible only inside it.\n",
    "<br>\n",
    "\n",
    "**Global Variables:** Defined outside functions and accessible everywhere.\n",
    "<br>\n",
    "\n",
    "**Pitfall:** Be cautious about modifying global variables inside functions."
   ]
  },
  {
   "cell_type": "code",
   "execution_count": 9,
   "id": "d88246f5-e571-44c4-85df-db6d39495bef",
   "metadata": {},
   "outputs": [
    {
     "name": "stdout",
     "output_type": "stream",
     "text": [
      "5\n"
     ]
    }
   ],
   "source": [
    "x = 10  # Global variable\n",
    "\n",
    "def modify():\n",
    "    global x\n",
    "    x = 5  # Modifies the global variable\n",
    "\n",
    "modify()\n",
    "print(x)  # Output: 5\n"
   ]
  },
  {
   "cell_type": "code",
   "execution_count": 10,
   "id": "2e651ae6-8e78-4366-a1dc-f2c6edaf5d3f",
   "metadata": {},
   "outputs": [
    {
     "name": "stdout",
     "output_type": "stream",
     "text": [
      "Hello, World!\n"
     ]
    }
   ],
   "source": [
    "def greet():\n",
    "    message = \"Hello, World!\"  # `message` is a local variable\n",
    "    return message\n",
    "\n",
    "print(greet())  # Output: Hello, World!\n",
    "\n",
    "# Trying to access `message` outside the function will raise an error\n",
    "# print(message)  # This will cause a NameError because `message` is local to `greet`\n"
   ]
  },
  {
   "cell_type": "markdown",
   "id": "c2ab7ad1-12a3-4340-8da4-aafad26c3d47",
   "metadata": {},
   "source": [
    "A local variable in a function is a variable that is defined within that function and is only accessible from inside that function. It has a local scope, meaning it exists only while the function is running and cannot be accessed outside of that function.\n",
    "<br>\n",
    "\n",
    "Here’s how local variables work in Python:\n",
    "\n",
    "- Creation: Local variables are created when the function is called.\n",
    "- Scope: They are only accessible within the function and cannot be used or modified outside the function.\n",
    "- Lifetime: They exist only during the function's execution. Once the function has finished running, the local variable is destroyed, and its value is no longer availabl"
   ]
  },
  {
   "cell_type": "markdown",
   "id": "129e2161-a8e4-4044-b5b7-d384067a56c6",
   "metadata": {},
   "source": [
    "In the code example above:\n",
    "\n",
    "- message is a local variable inside the greet function.\n",
    "- It only exists and is accessible while greet is running.\n",
    "- If we try to access message outside greet, Python will raise a NameError because message doesn’t exist in the global scope."
   ]
  },
  {
   "cell_type": "markdown",
   "id": "29673c1a-3558-4852-832e-df5f05900a85",
   "metadata": {},
   "source": [
    "## 6. Common Pitfalls and Best Practices\n",
    "<br>\n",
    "\n",
    "Avoiding Side Effects: A function should ideally only use its inputs and not rely on or modify global variables.\n",
    "<br>\n",
    "\n",
    "DRY Principle: Avoid duplicating code; instead, use functions.\n",
    "<br>\n",
    "\n",
    "Clear Naming: Use descriptive names to make functions easy to understand.\n",
    "<br>\n",
    "\n",
    "Avoiding Hardcoding: Use parameters instead of hardcoded values for flexibility."
   ]
  },
  {
   "cell_type": "code",
   "execution_count": null,
   "id": "736c20f3-a254-4a54-abae-a9ece33a1481",
   "metadata": {},
   "outputs": [],
   "source": []
  }
 ],
 "metadata": {
  "kernelspec": {
   "display_name": "Python 3 (ipykernel)",
   "language": "python",
   "name": "python3"
  },
  "language_info": {
   "codemirror_mode": {
    "name": "ipython",
    "version": 3
   },
   "file_extension": ".py",
   "mimetype": "text/x-python",
   "name": "python",
   "nbconvert_exporter": "python",
   "pygments_lexer": "ipython3",
   "version": "3.12.3"
  }
 },
 "nbformat": 4,
 "nbformat_minor": 5
}
