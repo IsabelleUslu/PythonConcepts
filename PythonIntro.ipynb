{
 "cells": [
  {
   "cell_type": "markdown",
   "id": "d3f05f66-fdfd-4d0f-9dd6-6945202299ea",
   "metadata": {},
   "source": [
    "## 1. Basic Syntax and Data Types\n",
    "\n",
    "Syntax: Learn how to structure Python code properly.\n",
    "\n",
    "Data Types: Familiarize with data types like int, float, str, bool, and NoneType.\n",
    "\n",
    "Type Conversion: Converting between types using int(), str(), etc.\n",
    "\n",
    "**Introduction**: Python’s syntax is simple and readable. Basic data types like integers, floats, and strings allow us to store and manipulate data.\n",
    "\n",
    "**Use**: Understanding data types and input/output helps us interact with users and manage different kinds of data."
   ]
  },
  {
   "cell_type": "code",
   "execution_count": 1,
   "id": "5271c632-1528-4b51-a3ff-71fa2bd31f8a",
   "metadata": {},
   "outputs": [
    {
     "name": "stdin",
     "output_type": "stream",
     "text": [
      "Enter your name:  Isabelle\n",
      "Enter your age:  44\n",
      "Enter your favorite number:  6\n"
     ]
    }
   ],
   "source": [
    "# Ask for user input\n",
    "name = input(\"Enter your name: \")\n",
    "age = int(input(\"Enter your age: \"))\n",
    "favorite_number = float(input(\"Enter your favorite number: \"))"
   ]
  },
  {
   "cell_type": "code",
   "execution_count": 2,
   "id": "7ac1d8e8-0568-4f6c-abab-e84ceaca1216",
   "metadata": {},
   "outputs": [
    {
     "name": "stdout",
     "output_type": "stream",
     "text": [
      "Hello Isabelle! You are 44 years old and your favorite number is 6.0.\n"
     ]
    }
   ],
   "source": [
    "print(f\"Hello {name}! You are {age} years old and your favorite number is {favorite_number}.\")"
   ]
  },
  {
   "cell_type": "markdown",
   "id": "80050271-d776-4288-8a8b-c1a7596476c4",
   "metadata": {},
   "source": [
    "## 2. Variables and Constants\n",
    "\n",
    "Variables: Understand how to assign and store values in variables.\n",
    "\n",
    "Constants: Though Python doesn’t enforce constants, it’s useful to know how to use uppercase naming conventions for them.\n",
    "\n",
    "**Introduction**: Variables store data that can change, while constants (usually written in uppercase) are values that shouldn’t change. Variables are crucial for data manipulation.\n",
    "\n",
    "**Use**: Variables and constants help us store and label values that we use in calculations or other parts of the code."
   ]
  },
  {
   "cell_type": "code",
   "execution_count": 3,
   "id": "c05fcb96-2302-4266-8cf3-5eddf277609e",
   "metadata": {},
   "outputs": [],
   "source": [
    "height = 1.75  # in meters\n",
    "weight = 68    # in kilograms"
   ]
  },
  {
   "cell_type": "code",
   "execution_count": 4,
   "id": "a872dfd9-f374-405f-863c-5aa48713ea4d",
   "metadata": {},
   "outputs": [
    {
     "name": "stdout",
     "output_type": "stream",
     "text": [
      "The BMI is 22.20\n"
     ]
    }
   ],
   "source": [
    "BMI = weight / (height ** 2)\n",
    "print(f\"The BMI is {BMI:.2f}\") # This line will print the output in a formatted string format. "
   ]
  },
  {
   "cell_type": "markdown",
   "id": "4855e712-5f43-4f11-a037-348b3689469a",
   "metadata": {},
   "source": [
    "## 3. Operators\n",
    "\n",
    "Arithmetic Operators: (+, -, *, /, //, %, **).\n",
    "\n",
    "Comparison Operators: (==, !=, >, <, >=, <=).\n",
    "\n",
    "Logical Operators: (and, or, not).\n",
    "\n",
    "**Introduction**: Operators perform actions like math calculations or comparisons. They’re essential for analyzing data.\n",
    "\n",
    "**Use**: Operators let us make calculations and comparisons, which is essential for filtering and analyzing data."
   ]
  },
  {
   "cell_type": "markdown",
   "id": "974e093e-517b-4bdc-a4fe-37dc968f13b2",
   "metadata": {},
   "source": [
    "#### age = int(input(\"Enter your age: \"))\n",
    "if age >= 65:\n",
    "    print(\"Eligible for senior discount.\")\n",
    "else:\n",
    "    print(\"Not eligible for senior discount.\")"
   ]
  },
  {
   "cell_type": "markdown",
   "id": "da845e7b-b11c-4a37-81fe-a0cb76652a51",
   "metadata": {},
   "source": [
    "## 4. Conditional Statements\n",
    "\n",
    "if, elif, else: Writing basic control flow to handle different conditions.\n",
    "\n",
    "**Introduction**: Conditional statements like if, elif, and else let us control code flow based on conditions.\n",
    "\n",
    "**Use**: Conditional statements allow us to categorize or filter data based on certain criteria."
   ]
  },
  {
   "cell_type": "code",
   "execution_count": 6,
   "id": "0c3c343f-783e-42d0-88a6-693c6bc34e96",
   "metadata": {},
   "outputs": [],
   "source": [
    "# Below is a function which would take only 1 argument as an input (that is your BMI) and will tell you (categorize you) whether you are underweight, normal, overweight or obese\n",
    "def classify_bmi(bmi):\n",
    "    if bmi < 18.5:\n",
    "        return \"Underweight\"\n",
    "    elif 18.5 <= bmi < 25:\n",
    "        return \"Normal\"\n",
    "    elif 25 <= bmi < 30:\n",
    "        return \"Overweight\"\n",
    "    else:\n",
    "        return \"Obese\""
   ]
  },
  {
   "cell_type": "code",
   "execution_count": 7,
   "id": "2a37e8f5-5f40-4e8f-a231-fefc0fa75fe7",
   "metadata": {},
   "outputs": [
    {
     "name": "stdout",
     "output_type": "stream",
     "text": [
      "BMI Classification: Normal\n"
     ]
    }
   ],
   "source": [
    "bmi_value = 22.5  # Example BMI value\n",
    "print(f\"BMI Classification: {classify_bmi(bmi_value)}\")"
   ]
  },
  {
   "cell_type": "markdown",
   "id": "3ca5f71b-5c78-4016-a831-99d836d4c6ba",
   "metadata": {},
   "source": [
    "## 5. Loops\n",
    "\n",
    "For Loops: Iterating over sequences, such as lists or strings.\n",
    "\n",
    "While Loops: Running code repeatedly until a condition is met.\n",
    "\n",
    "Loop Control Statements: break, continue, and pass.\n",
    "\n",
    "**Introduction**: Loops let us repeat code, useful for processing lists or large datasets.\n",
    "\n",
    "**Use**: Loops are used to process or transform multiple pieces of data at once, which is essential in data science for data processing."
   ]
  },
  {
   "cell_type": "code",
   "execution_count": 8,
   "id": "4def8527-1f2e-4275-98f1-11d39898c7e4",
   "metadata": {},
   "outputs": [
    {
     "name": "stdout",
     "output_type": "stream",
     "text": [
      "Fahrenheit temperatures: [32.0, 68.0, 86.0, 104.0]\n"
     ]
    }
   ],
   "source": [
    "celsius_temps = [0, 20, 30, 40] # List of temperatures\n",
    "\n",
    "fahrenheit_temps = [] # empty list to store the converted temperatures\n",
    "for temp in celsius_temps:\n",
    "    fahrenheit = temp * 9/5 + 32\n",
    "    fahrenheit_temps.append(fahrenheit)\n",
    "\n",
    "print(\"Fahrenheit temperatures:\", fahrenheit_temps)\n"
   ]
  },
  {
   "cell_type": "markdown",
   "id": "c1288767-87ff-4823-81ef-b2d0adcb3f9c",
   "metadata": {},
   "source": [
    "## 6. Functions\n",
    "\n",
    "Defining Functions: Using def to create reusable code blocks.\n",
    "\n",
    "Parameters and Arguments: Understanding how to pass data to functions.\n",
    "\n",
    "Return Values: Using return to send output from a function.\n",
    "\n",
    "**Introduction**: Functions allow us to create reusable blocks of code, especially helpful for repetitive tasks.\n",
    "\n",
    "**Use**: Functions help structure code, making it cleaner and reusable, which is essential when writing analysis scripts."
   ]
  },
  {
   "cell_type": "code",
   "execution_count": 9,
   "id": "71868b1f-8d48-4c0a-944e-044288aac5df",
   "metadata": {},
   "outputs": [],
   "source": [
    "# the syntax of creating a function is to start with statement \"def\"\n",
    "def standardize(data):\n",
    "    mean = sum(data) / len(data)\n",
    "    variance = sum((x - mean) ** 2 for x in data) / len(data)\n",
    "    std_dev = variance ** 0.5\n",
    "    return [(x - mean) / std_dev for x in data]"
   ]
  },
  {
   "cell_type": "code",
   "execution_count": 10,
   "id": "500f06e3-8952-424a-8de6-537923c73107",
   "metadata": {},
   "outputs": [
    {
     "name": "stdout",
     "output_type": "stream",
     "text": [
      "Standardized scores: [-1.414213562373095, -0.7071067811865475, 0.0, 0.7071067811865475, 1.414213562373095]\n"
     ]
    }
   ],
   "source": [
    "# We want to test the function with a list of scores \n",
    "scores = [10, 20, 30, 40, 50]\n",
    "print(\"Standardized scores:\", standardize(scores))"
   ]
  },
  {
   "cell_type": "markdown",
   "id": "d629f9a5-4cb1-4c37-b191-57c3b04fcc68",
   "metadata": {},
   "source": [
    "## 7. Lists, Tuples, and Dictionaries\n",
    "\n",
    "Lists: Creating and manipulating lists with methods like append(), remove(), and slicing.\n",
    "\n",
    "Tuples: Immutable lists; useful for fixed collections of items.\n",
    "\n",
    "Dictionaries: Key-value pairs; learning to create, add, update, and access items.\n",
    "\n",
    "**Introduction**: These data structures allow us to store collections of data. Lists are mutable, tuples are immutable, and dictionaries use key-value pairs.\n",
    "\n",
    "**Use**: Lists and dictionaries are ideal for storing and organizing data in data science projects."
   ]
  },
  {
   "cell_type": "code",
   "execution_count": 11,
   "id": "218ea072-1c00-4625-841c-c77a2b5f290d",
   "metadata": {},
   "outputs": [
    {
     "name": "stdout",
     "output_type": "stream",
     "text": [
      "Total sales for the year: 15000\n"
     ]
    }
   ],
   "source": [
    "monthly_sales = [2000, 3000, 2500, 4000, 3500] # a list of sales\n",
    "total_sales = sum(monthly_sales) # Using the sum function to add all sales in the list above\n",
    "print(\"Total sales for the year:\", total_sales)"
   ]
  },
  {
   "cell_type": "code",
   "execution_count": 12,
   "id": "07047a8d-b19a-4daf-a730-f511504fe886",
   "metadata": {},
   "outputs": [
    {
     "name": "stdout",
     "output_type": "stream",
     "text": [
      "Error: 'tuple' object does not support item assignment\n",
      "Error when using append: 'tuple' object has no attribute 'append'\n",
      "Error when using del: 'tuple' object doesn't support item deletion\n",
      "city_names after trying to delete from the tuple: ('New York', 'Los Angeles', 'Chicago')\n",
      "New tuple after adding Houston: ('New York', 'Los Angeles', 'Chicago', 'Houston')\n",
      "Final tuple (unchanged): ('New York', 'Los Angeles', 'Chicago', 'Houston')\n"
     ]
    }
   ],
   "source": [
    "# A tuple with city names\n",
    "city_names = ('New York', 'Los Angeles', 'Chicago')  # Tuple with city names\n",
    "\n",
    "# Key Points:\n",
    "\n",
    "    # Immutability: Tuples cannot be modified after they are created. Trying to change or delete an element will result in a TypeError.\n",
    "\n",
    "    # 1. Attempt to modify the tuple specific position - will return an error\n",
    "\n",
    "try:\n",
    "    city_names[0] = 'San Francisco'  # Trying to change the first city\n",
    "except TypeError as e:\n",
    "    print(\"Error:\", e)\n",
    "\n",
    "\n",
    "    # 2. Attempting to Add New Item Using 'append'\n",
    "try:\n",
    "    city_names.append('Houston') # this will throw an error\n",
    "except AttributeError as e:\n",
    "    print(f\"Error when using append: {e}\")\n",
    "\n",
    "\n",
    "    # 3. Attempting to Delete an Item Using 'del'\n",
    "try:\n",
    "    del city_names[0]\n",
    "except TypeError as e:\n",
    "     print(f\"Error when using del: {e}\")\n",
    "\n",
    "print(\"city_names after trying to delete from the tuple:\", city_names)\n",
    "\n",
    "    \n",
    "    # Concatenation: Adding elements to a tuple creates a new tuple, leaving the original tuple unchanged.\n",
    "\n",
    "    # Attempting to modify the original tuple is not possible, but you can concatenate it with a new tuple.\n",
    "    # The '+=` operator creates a new tuple and reassign the variable to it\n",
    "    \n",
    "try:\n",
    "    city_names += ('Houston',)  # This creates a new tuple, does not modify the original\n",
    "    print(\"New tuple after adding Houston:\", city_names)\n",
    "except TypeError as e:\n",
    "    print(\"Error:\", e)\n",
    "\n",
    "print(\"Final tuple (unchanged):\", city_names)"
   ]
  },
  {
   "cell_type": "code",
   "execution_count": 13,
   "id": "de2320e2-8929-461e-80ff-3400f5fefdd7",
   "metadata": {},
   "outputs": [
    {
     "name": "stdout",
     "output_type": "stream",
     "text": [
      "Original tuple: ('New York', 'Los Angeles', 'Chicago')\n",
      "New tuple after adding Houston: ('New York', 'Los Angeles', 'Chicago', 'Houston')\n"
     ]
    }
   ],
   "source": [
    "# A tuple with city names\n",
    "city_names = ('New York', 'Los Angeles', 'Chicago')\n",
    "\n",
    "# Attempt to add a new city\n",
    "print(\"Original tuple:\", city_names)\n",
    "city_names += ('Houston',)  # Creates a new tuple and assigns it to city_names\n",
    "print(\"New tuple after adding Houston:\", city_names)\n",
    "\n",
    "# Original tuple object is not modified; a new tuple was created\n"
   ]
  },
  {
   "cell_type": "code",
   "execution_count": 14,
   "id": "fd424e8d-e92d-469f-89fb-89c4514063a7",
   "metadata": {},
   "outputs": [
    {
     "name": "stdout",
     "output_type": "stream",
     "text": [
      "City populations: {'New York': 8419000, 'Los Angeles': 3980000, 'Chicago': 2716000, 'Houston': 2328000}\n"
     ]
    }
   ],
   "source": [
    "city_populations = {'New York': 8419000, 'Los Angeles': 3980000, 'Chicago': 2716000} # a dictionary with city names and corresponding populations\n",
    "city_populations['Houston'] = 2328000  # Adding a new city\n",
    "print(\"City populations:\", city_populations)"
   ]
  },
  {
   "cell_type": "markdown",
   "id": "a654112a-0840-48e2-9eca-a71578d90b46",
   "metadata": {},
   "source": [
    "## 8. String Manipulation (which will be covered later during the course in module 8)\n",
    "\n",
    "String Operations: Concatenation, indexing, and slicing.\n",
    "\n",
    "String Methods: Functions like .upper(), .lower(), .strip(), .split(), .join(), and string formatting.\n",
    "\n",
    "**Introduction**: Strings often require formatting, splitting, and joining when handling text data, like names or sentences.\n",
    "\n",
    "**Use**: Text data is common in data science, and understanding string manipulation is essential for preparing and analyzing it."
   ]
  },
  {
   "cell_type": "code",
   "execution_count": 15,
   "id": "4be53712-725a-475c-b683-5c9b797155f3",
   "metadata": {},
   "outputs": [
    {
     "name": "stdout",
     "output_type": "stream",
     "text": [
      "Word frequency: {'data': 1, 'science': 1, 'is': 1, 'fun': 1, 'and': 1, 'powerful!': 1}\n"
     ]
    }
   ],
   "source": [
    "sentence = \"Data science is fun and powerful!\" # in a string format\n",
    "\n",
    "word_count = {}\n",
    "for word in sentence.lower().split():\n",
    "    word_count[word] = word_count.get(word, 0) + 1\n",
    "\n",
    "print(\"Word frequency:\", word_count)\n"
   ]
  },
  {
   "cell_type": "markdown",
   "id": "93be6616-4037-4049-8fcf-a09bd69daa84",
   "metadata": {},
   "source": [
    "## 9. Basic I/O\n",
    "\n",
    "**Introduction**: Input and output operations let us interact with users or files, critical for data loading and saving results.\n",
    "\n",
    "**Use**: File I/O is vital for data handling in data science, as data often comes from files."
   ]
  },
  {
   "cell_type": "code",
   "execution_count": 16,
   "id": "cf8190e8-1f35-4631-af41-c86a6ef90e8d",
   "metadata": {},
   "outputs": [
    {
     "name": "stdin",
     "output_type": "stream",
     "text": [
      "Enter steps for day 1:  8847\n",
      "Enter steps for day 2:  5000\n",
      "Enter steps for day 3:  6000\n",
      "Enter steps for day 4:  7000\n",
      "Enter steps for day 5:  9682\n",
      "Enter steps for day 6:  15000\n",
      "Enter steps for day 7:  9873\n"
     ]
    },
    {
     "name": "stdout",
     "output_type": "stream",
     "text": [
      "Average steps: 8771.714285714286\n"
     ]
    }
   ],
   "source": [
    "# Initialize an empty list to store the step counts for each day\n",
    "steps = []\n",
    "\n",
    "# Loop over 7 days, asking the user to enter their steps for each day\n",
    "for day in range(7):\n",
    "    # Append the user's input (converted to an integer) to the 'steps' list\n",
    "    steps.append(int(input(f\"Enter steps for day {day + 1}: \")))\n",
    "\n",
    "# Open a file called \"steps.txt\" in write mode to store the steps data, this will create a .txt file in your current working directory\n",
    "with open(\"steps.txt\", \"w\") as file:\n",
    "    # Join the list of steps into a single string, separated by commas, and write to the file\n",
    "    file.write(\",\".join(map(str, steps)))\n",
    "\n",
    "# Open the \"steps.txt\" file again, this time in read mode to read the stored steps\n",
    "with open(\"steps.txt\", \"r\") as file:\n",
    "    # Read the file content, split the string by commas to get each step as a separate item,\n",
    "    # and convert each item back to an integer, resulting in a list of integers\n",
    "    steps_from_file = list(map(int, file.read().split(',')))\n",
    "\n",
    "    # Calculate the average of the steps from the file by summing them and dividing by the number of items\n",
    "    print(\"Average steps:\", sum(steps_from_file) / len(steps_from_file))\n"
   ]
  },
  {
   "cell_type": "markdown",
   "id": "ae28a111-bf0a-425e-bde0-bbd2095ced13",
   "metadata": {},
   "source": [
    "## 10. Exception Handling\n",
    "\n",
    "Try and Except: Handling errors gracefully to prevent crashes.\n",
    "\n",
    "**Introduction**: Exception handling allows code to continue running even when errors occur, preventing crashes.\n",
    "\n",
    "**Use**: Exception handling is essential in data science for managing issues with data integrity and avoiding code interruptions."
   ]
  },
  {
   "cell_type": "code",
   "execution_count": 17,
   "id": "46563719-968a-40aa-972f-972808398a0b",
   "metadata": {},
   "outputs": [
    {
     "name": "stdin",
     "output_type": "stream",
     "text": [
      "Enter your age:  44\n"
     ]
    },
    {
     "name": "stdout",
     "output_type": "stream",
     "text": [
      "Your age is 44\n"
     ]
    }
   ],
   "source": [
    "# Try block starts here: we use it to attempt running code that might cause an error\n",
    "try:\n",
    "    \n",
    "    # Prompt the user to enter their age, and try to convert the input to an integer\n",
    "    age = int(input(\"Enter your age: \"))\n",
    "    # If the input is successfully converted, print the age\n",
    "    print(f\"Your age is {age}\")\n",
    "\n",
    "\n",
    "# This except block catches any ValueError that occurs in the try block above\n",
    "except ValueError: # A ValueError in Python occurs when you try to perform an operation on a value that is of the correct type but has an inappropriate or invalid value for that operation.\n",
    "    # If a ValueError is raised (for example, if the user enters non-numeric input),\n",
    "    # print an error message to inform the user of the invalid input\n",
    "    print(\"Invalid input! Please enter a valid number.\")"
   ]
  },
  {
   "cell_type": "markdown",
   "id": "82bc64bc-c301-4f77-8ccc-4e61253f4bdc",
   "metadata": {},
   "source": [
    "## 11. Basic File Handling\n",
    "\n",
    "Opening, reading, writing, and closing files using open(), read(), write(), and close() functions.\n",
    "\n",
    "**Introduction**: File handling lets us open, read, write, and close files, which is crucial for loading data and saving results.\n",
    "\n",
    "**Use**: File handling is a basic skill in data science, where datasets are often stored and processed in files.\n"
   ]
  },
  {
   "cell_type": "raw",
   "id": "91d95d45-9674-47a4-a7cc-d62babd15bab",
   "metadata": {},
   "source": [
    "# Open the file \"temperatures.txt\" in read mode to access temperature data\n",
    "with open(\"temperatures.txt\", \"r\") as file:\n",
    "    # Read all lines from the file, convert each line to a float (assuming each line is a temperature),\n",
    "    # and store them in a list called 'temps'\n",
    "    temps = list(map(float, file.readlines()))\n",
    "    \n",
    "    # Calculate the average temperature by summing the list and dividing by the number of items\n",
    "    avg_temp = sum(temps) / len(temps)\n",
    "\n",
    "# Open a new file \"average_temperature.txt\" in write mode to save the average temperature\n",
    "with open(\"average_temperature.txt\", \"w\") as file:\n",
    "    # Write the average temperature to the file with a descriptive label\n",
    "    file.write(f\"Average temperature: {avg_temp}\")\n"
   ]
  },
  {
   "cell_type": "markdown",
   "id": "d2e45b5e-7be1-4de9-a863-c1576c03df14",
   "metadata": {},
   "source": [
    "# **FAQ**"
   ]
  },
  {
   "cell_type": "markdown",
   "id": "c7d78e4e-9b1e-4ba4-bcb2-9a6f47df7faf",
   "metadata": {},
   "source": [
    "## 1. What is the difference between using a return or print statement when defining a function?"
   ]
  },
  {
   "cell_type": "markdown",
   "id": "4aace5ba-b12c-45cd-bfe8-097845e55104",
   "metadata": {},
   "source": [
    "The main difference between return and print in a function is how the output is handled and what it is used for:\n",
    "\n",
    "### 1. return Statement\n",
    "Purpose: return is used to exit the function and send a result (value) back to the caller.\n",
    "\n",
    "Behavior: When return is used, the function sends a value back to where it was called, and that value can be assigned to a variable or used in further operations. The function execution stops immediately once return is executed.\n",
    "\n",
    "Use Case: return is used when you need to calculate something inside a function and want to pass that result to another part of your code."
   ]
  },
  {
   "cell_type": "code",
   "execution_count": 18,
   "id": "58dbf83c-dd1e-4eb3-8249-f42865c96197",
   "metadata": {},
   "outputs": [
    {
     "name": "stdout",
     "output_type": "stream",
     "text": [
      "8\n"
     ]
    }
   ],
   "source": [
    "def add(a, b):\n",
    "    result = a + b\n",
    "    return result  # Returning the result to the caller\n",
    "\n",
    "sum_result = add(3, 5)  # Call the function and store the result\n",
    "print(sum_result)  # Output: 8\n"
   ]
  },
  {
   "cell_type": "markdown",
   "id": "615f2f8c-8af6-4c63-b1c8-38b97ffc4b93",
   "metadata": {},
   "source": [
    "### 2. print Statement\n",
    "Purpose: print is used to display output to the console (standard output).\n",
    "\n",
    "Behavior: When print is used, it does not affect the function’s output or execution in any way. It simply outputs the data to the console and does not return anything. print will not interrupt the function; it just shows information while the function is running.\n",
    "\n",
    "Use Case: print is used for debugging, showing intermediate results, or providing feedback to the user."
   ]
  },
  {
   "cell_type": "code",
   "execution_count": 19,
   "id": "13b34093-f4a3-430c-bcd4-2341177916b9",
   "metadata": {},
   "outputs": [
    {
     "name": "stdout",
     "output_type": "stream",
     "text": [
      "8\n"
     ]
    }
   ],
   "source": [
    "def add(a, b):\n",
    "    result = a + b\n",
    "    print(result)  # Printing the result to the console\n",
    "\n",
    "add(3, 5)  # Output: 8 (printed to the console)\n"
   ]
  },
  {
   "cell_type": "markdown",
   "id": "b475856b-09fd-4806-9725-7a5103013d32",
   "metadata": {},
   "source": [
    "### Key Differences:\n",
    "\n",
    "**Output Handling:**\n",
    "\n",
    "return gives the result back to the caller, allowing it to be used later.\n",
    "\n",
    "print simply displays the result on the screen and does not pass anything back to the caller.\n",
    "\n",
    "**Function Behavior:**\n",
    "\n",
    "return causes the function to terminate and return a value immediately.\n",
    "\n",
    "print does not affect the function’s execution or return value. The function will continue executing after the print statement.\n",
    "\n",
    "**When to Use Each:**\n",
    "\n",
    "Use return when you need to send a value back to the calling code (e.g., for further calculations or assignments).\n",
    "\n",
    "Use print when you want to display information to the user or for debugging purposes. This is helpful when you're not sure where things are going wrong in your code and you want to check the intermediate values of variables at different stages."
   ]
  },
  {
   "cell_type": "markdown",
   "id": "4b2ff855-4091-48ee-9f7f-65dcecd0b43e",
   "metadata": {},
   "source": [
    "**Example:** Debugging a Function\n",
    "\n",
    "Let's say you're writing a function to calculate the sum of even numbers in a list, but the output isn't what you expect. You can use print to check the intermediate values."
   ]
  },
  {
   "cell_type": "code",
   "execution_count": 20,
   "id": "da017911-f6d6-4438-a509-b1fce582929b",
   "metadata": {},
   "outputs": [
    {
     "name": "stdout",
     "output_type": "stream",
     "text": [
      "Checking number: 1\n",
      "1 is odd, skipping\n",
      "Checking number: 2\n",
      "2 is even, adding to total\n",
      "Checking number: 3\n",
      "3 is odd, skipping\n",
      "Checking number: 4\n",
      "4 is even, adding to total\n",
      "Checking number: 5\n",
      "5 is odd, skipping\n",
      "Checking number: 6\n",
      "6 is even, adding to total\n",
      "Checking number: 7\n",
      "7 is odd, skipping\n",
      "Checking number: 8\n",
      "8 is even, adding to total\n",
      "Total sum of even numbers: 20\n"
     ]
    }
   ],
   "source": [
    "def sum_even_numbers(numbers):\n",
    "    total = 0\n",
    "    for num in numbers:\n",
    "        print(f\"Checking number: {num}\")  # Debugging: Print the current number\n",
    "        if num % 2 == 0:\n",
    "            print(f\"{num} is even, adding to total\")  # Debugging: Print when the number is even\n",
    "            total += num\n",
    "        else:\n",
    "            print(f\"{num} is odd, skipping\")  # Debugging: Print when the number is odd\n",
    "    return total\n",
    "\n",
    "# Test the function\n",
    "numbers_list = [1, 2, 3, 4, 5, 6, 7, 8]\n",
    "result = sum_even_numbers(numbers_list)\n",
    "print(f\"Total sum of even numbers: {result}\")\n"
   ]
  },
  {
   "cell_type": "markdown",
   "id": "ead2986c-cd49-4064-afcb-cd196d11316b",
   "metadata": {},
   "source": [
    "**What Happens:**\n",
    "\n",
    "The print(f\"Checking number: {num}\") line shows you the current number being processed in the loop.\n",
    "\n",
    "If the number is even, the function prints \"X is even, adding to total\". If it's odd, it prints \"X is odd, skipping\".\n",
    "\n",
    "This helps you track exactly what’s happening in each iteration and can help identify if something is going wrong in the logic (e.g., maybe some even numbers are being skipped incorrectly)."
   ]
  },
  {
   "cell_type": "markdown",
   "id": "f9995260-cdb7-410f-8dd6-55fa75a8f721",
   "metadata": {},
   "source": [
    "## 2. How do we treat loops based on data types we are dealing with?"
   ]
  },
  {
   "cell_type": "markdown",
   "id": "48bf22bc-12d5-456b-952b-9d76f6299cdc",
   "metadata": {},
   "source": [
    "When using loops in Python, how you handle the loop depends on the data type you are iterating over. Different data types—such as lists, tuples, strings, dictionaries, and sets—have different behaviors and properties that can affect how you loop through them. Here's a breakdown of how loops are typically treated for various data types:"
   ]
  },
  {
   "cell_type": "markdown",
   "id": "519c9b56-0162-4dfc-88bc-8b3818842497",
   "metadata": {},
   "source": [
    "### 1. Lists and Tuples\n",
    "\n",
    "Both lists and tuples are ordered, iterable sequences. You can loop over each element in the list or tuple using a for loop."
   ]
  },
  {
   "cell_type": "code",
   "execution_count": 21,
   "id": "051f3d0a-b0a5-446b-a2e1-a789e65ca87a",
   "metadata": {},
   "outputs": [
    {
     "name": "stdout",
     "output_type": "stream",
     "text": [
      "1\n",
      "2\n",
      "3\n",
      "4\n",
      "5\n"
     ]
    }
   ],
   "source": [
    "# Example with a list\n",
    "\n",
    "numbers = [1, 2, 3, 4, 5]\n",
    "for number in numbers:\n",
    "    print(number)"
   ]
  },
  {
   "cell_type": "markdown",
   "id": "b68d6a67-cbeb-461b-9690-13a3b284f327",
   "metadata": {},
   "source": [
    "**Looping:** Each element in the list is processed in order.\n",
    "\n",
    "**Behavior:** You can access individual elements and modify the list if needed (though modifying a list while iterating can be tricky)."
   ]
  },
  {
   "cell_type": "code",
   "execution_count": 22,
   "id": "f49cba93-d9dd-466a-96ee-170569da9186",
   "metadata": {},
   "outputs": [
    {
     "name": "stdout",
     "output_type": "stream",
     "text": [
      "10\n",
      "20\n",
      "30\n"
     ]
    }
   ],
   "source": [
    "# Example with a tuple\n",
    "\n",
    "coordinates = (10, 20, 30)\n",
    "for coordinate in coordinates:\n",
    "    print(coordinate)\n"
   ]
  },
  {
   "cell_type": "markdown",
   "id": "e563e7f0-1180-4606-af41-52b4c8eb9af4",
   "metadata": {},
   "source": [
    "#### **Looping:** Works similarly to lists. Tuples are immutable, so you cannot change the values while iterating."
   ]
  }
 ],
 "metadata": {
  "kernelspec": {
   "display_name": "Python 3 (ipykernel)",
   "language": "python",
   "name": "python3"
  },
  "language_info": {
   "codemirror_mode": {
    "name": "ipython",
    "version": 3
   },
   "file_extension": ".py",
   "mimetype": "text/x-python",
   "name": "python",
   "nbconvert_exporter": "python",
   "pygments_lexer": "ipython3",
   "version": "3.12.3"
  }
 },
 "nbformat": 4,
 "nbformat_minor": 5
}
