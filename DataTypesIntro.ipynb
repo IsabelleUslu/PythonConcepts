{
 "cells": [
  {
   "cell_type": "markdown",
   "id": "d791064a-1987-458f-b3d6-7964b0acebf8",
   "metadata": {},
   "source": [
    "# 1. What are datatypes in Python?"
   ]
  },
  {
   "cell_type": "markdown",
   "id": "0e12fa1f-78b2-4f72-aa35-49a42b536c74",
   "metadata": {},
   "source": [
    "Understanding data types is essential in data science because data types define the kind of operations that can be performed on the data and how it is stored in memory. Here’s why this knowledge is crucial:\n",
    "\n",
    "### 1. **Data Accuracy and Integrity**\n",
    "   - Knowing data types helps ensure that the data is handled in ways that preserve its meaning. For example, treating a numerical value (like `1000`) as a string (`\"1000\"`) instead of an integer can lead to errors in calculations or analyses.\n",
    "\n",
    "### 2. **Efficient Data Manipulation**\n",
    "   - Each data type has specific methods and functions that make data manipulation easier. For example:\n",
    "      - **Strings**: Methods like `.replace()`, `.split()`, and `.join()` are useful when handling text data.\n",
    "      - **Numerics**: Mathematical operations are straightforward with integers and floats, allowing for easier statistical analysis.\n",
    "\n",
    "### 3. **Memory Management and Performance**\n",
    "   - Choosing the correct data type can save memory and improve performance. For example, storing categorical data as an integer or a category type rather than a string reduces memory usage.\n",
    "\n",
    "### 4. **Data Cleaning and Transformation**\n",
    "   - Many datasets require preprocessing, like converting dates to a datetime format, or converting categorical strings to numeric values for machine learning models. Understanding data types is essential for selecting the right transformations and preparing data effectively.\n",
    "\n",
    "### 5. **Preventing and Debugging Errors**\n",
    "   - Errors often arise from mismatched data types, such as attempting to perform arithmetic on strings or concatenating integers with strings. Recognizing and understanding data types makes debugging easier, helping prevent such errors.\n",
    "\n",
    "### 6. **Optimizing Machine Learning Models**\n",
    "   - Machine learning models typically require data to be in numeric form, so understanding the types of data in a dataset helps identify what needs transformation (e.g., converting categorical variables to one-hot encoding or label encoding).\n",
    "\n",
    "### 7. **Understanding the Data’s Nature and Distribution**\n",
    "   - Different types of data represent different kinds of information. For example:\n",
    "      - **Categorical data**: Useful for grouping and segmentation tasks.\n",
    "      - **Continuous data**: Valuable for regression and other numeric predictions.\n",
    "\n",
    "In summary, understanding data types provides the foundation for accurate data handling, efficient processing, effective model building, and successful debugging, all of which are vital to data science."
   ]
  },
  {
   "cell_type": "markdown",
   "id": "cc91a961-f91b-4df1-8839-19632ecd2e58",
   "metadata": {},
   "source": [
    "# 2. Examples of datatypes, use cases, importance in data science"
   ]
  },
  {
   "cell_type": "markdown",
   "id": "56fa2344-4d1b-4a3e-99b4-dded10a97fea",
   "metadata": {},
   "source": [
    "## 2.1. Integer (int)\n",
    "\n",
    "Integers are whole numbers, both positive and negative, without decimal points.\n"
   ]
  },
  {
   "cell_type": "code",
   "execution_count": 1,
   "id": "c9599e6f-14ef-400a-82b8-25cbab435686",
   "metadata": {},
   "outputs": [
    {
     "name": "stdout",
     "output_type": "stream",
     "text": [
      "Type of num: <class 'int'>\n",
      "Example Integer: 10\n"
     ]
    }
   ],
   "source": [
    "# Integer example\n",
    "num = 10\n",
    "print(\"Type of num:\", type(num))\n",
    "print(\"Example Integer:\", num)\n"
   ]
  },
  {
   "cell_type": "markdown",
   "id": "52912557-ce11-4769-afbb-761c35f08605",
   "metadata": {},
   "source": [
    "\n",
    "While integers don’t have specific methods, we can use arithmetic operators with them."
   ]
  },
  {
   "cell_type": "code",
   "execution_count": 2,
   "id": "782d18f1-dc70-4bd8-88a7-4fe7e7343be5",
   "metadata": {},
   "outputs": [
    {
     "name": "stdout",
     "output_type": "stream",
     "text": [
      "Addition: 22\n",
      "Subtraction: 8\n",
      "Multiplication: 105\n",
      "Division: 2.142857142857143\n",
      "Floor Division: 2\n",
      "Modulus: 1\n",
      "Exponent: 170859375\n"
     ]
    }
   ],
   "source": [
    "# Integer operations\n",
    "a = 15\n",
    "b = 7\n",
    "print(\"Addition:\", a + b)\n",
    "print(\"Subtraction:\", a - b)\n",
    "print(\"Multiplication:\", a * b)\n",
    "print(\"Division:\", a / b)\n",
    "print(\"Floor Division:\", a // b)  # Rounds down to the nearest integer\n",
    "print(\"Modulus:\", a % b)          # Remainder of division\n",
    "print(\"Exponent:\", a ** b)         # Power\n"
   ]
  },
  {
   "cell_type": "markdown",
   "id": "f17bcd53-4c54-4ac8-8773-09e5577d133f",
   "metadata": {},
   "source": [
    "**Use Cases:**\n",
    "\n",
    "- Counting: Useful for counts, such as the number of records, features, or occurrences of a specific category in a dataset.\n",
    "\n",
    "- IDs: Often used for unique identifiers like customer IDs, transaction IDs, or event IDs in datasets.\n",
    "\n",
    "**Importance:** They’re memory-efficient and are straightforward to work with in loops, indexing, and simple arithmetic."
   ]
  },
  {
   "cell_type": "code",
   "execution_count": 20,
   "id": "dc2bed40-a92c-43c3-8e5e-b295bc13a740",
   "metadata": {},
   "outputs": [],
   "source": [
    "# Example: Counting occurrences\n",
    "customer_id = 12345  # Unique identifier\n",
    "total_orders = 300    # Count of orders\n"
   ]
  },
  {
   "cell_type": "markdown",
   "id": "385ed819-0bde-46e8-b90e-55fda2d6eb13",
   "metadata": {},
   "source": [
    "## 2.2 Float (float)\n",
    "\n",
    "Floats are numbers that contain decimal points. They're used for precise measurements."
   ]
  },
  {
   "cell_type": "code",
   "execution_count": 3,
   "id": "804178be-b45f-44fe-85e4-46e52106b272",
   "metadata": {},
   "outputs": [
    {
     "name": "stdout",
     "output_type": "stream",
     "text": [
      "Type of decimal_num: <class 'float'>\n",
      "Example Float: 10.5\n"
     ]
    }
   ],
   "source": [
    "# Float example\n",
    "decimal_num = 10.5\n",
    "print(\"Type of decimal_num:\", type(decimal_num))\n",
    "print(\"Example Float:\", decimal_num)\n"
   ]
  },
  {
   "cell_type": "markdown",
   "id": "35c494a9-36c6-4648-b80c-3b5ea2d37eb1",
   "metadata": {},
   "source": [
    "Floats also don’t have specific methods but are often used with arithmetic and rounding functions."
   ]
  },
  {
   "cell_type": "code",
   "execution_count": 4,
   "id": "684919ed-be3b-40a8-b226-96965c998d44",
   "metadata": {},
   "outputs": [
    {
     "name": "stdout",
     "output_type": "stream",
     "text": [
      "Rounded (2 decimals): 5.68\n",
      "Absolute value: 4.322\n"
     ]
    }
   ],
   "source": [
    "# Float operations\n",
    "x = 5.678\n",
    "print(\"Rounded (2 decimals):\", round(x, 2))\n",
    "print(\"Absolute value:\", abs(x - 10))\n"
   ]
  },
  {
   "cell_type": "markdown",
   "id": "9bcd6ee3-6cac-45f9-9932-5fbe53f34966",
   "metadata": {},
   "source": [
    "**Use Cases:**\n",
    "\n",
    "- Continuous Values: Useful for representing continuous variables like temperature, price, or probability scores.\n",
    "- Statistical Calculations: Used in computations that need high precision, such as calculating averages, variances, or performing normalization in ML preprocessing.\n",
    "  \n",
    "**Importance:** Essential for handling real-world data where precision matters, especially in scientific or statistical contexts."
   ]
  },
  {
   "cell_type": "code",
   "execution_count": 21,
   "id": "bad3704f-6aa3-4892-9109-52bde660c576",
   "metadata": {},
   "outputs": [],
   "source": [
    "# Example: Probability score\n",
    "accuracy_score = 0.85  # Model accuracy between 0 and 1\n"
   ]
  },
  {
   "cell_type": "markdown",
   "id": "04f5c4cc-f24e-4a82-b967-c8b346a9534d",
   "metadata": {},
   "source": [
    "## 2.3. String (str)\n",
    "\n",
    "Strings are sequences of characters, used for text data."
   ]
  },
  {
   "cell_type": "code",
   "execution_count": 5,
   "id": "5dfbd88e-5ed6-460c-b7bc-dce09cddeef5",
   "metadata": {},
   "outputs": [
    {
     "name": "stdout",
     "output_type": "stream",
     "text": [
      "Type of text: <class 'str'>\n",
      "Example String: Hello, Python!\n"
     ]
    }
   ],
   "source": [
    "# String example\n",
    "text = \"Hello, Python!\"\n",
    "print(\"Type of text:\", type(text))\n",
    "print(\"Example String:\", text)\n"
   ]
  },
  {
   "cell_type": "markdown",
   "id": "63f6b710-c877-439c-9685-df227daed875",
   "metadata": {},
   "source": [
    "Strings have many useful methods for manipulation, searching, and formatting."
   ]
  },
  {
   "cell_type": "code",
   "execution_count": 6,
   "id": "622d07dc-803a-40d6-b69f-57b77f4c981d",
   "metadata": {},
   "outputs": [
    {
     "name": "stdout",
     "output_type": "stream",
     "text": [
      "Uppercase: HELLO, PYTHON WORLD!\n",
      "Lowercase: hello, python world!\n",
      "Title Case: Hello, Python World!\n",
      "Replace 'Python' with 'Data': Hello, Data World!\n",
      "Split into list by spaces: ['Hello,', 'Python', 'World!']\n",
      "Find index of 'Python': 7\n",
      "Check if all alphabetic: False\n",
      "Check if starts with 'Hello': True\n",
      "Length of string: 20\n"
     ]
    }
   ],
   "source": [
    "# String methods\n",
    "text = \"Hello, Python World!\"\n",
    "print(\"Uppercase:\", text.upper())\n",
    "print(\"Lowercase:\", text.lower())\n",
    "print(\"Title Case:\", text.title())\n",
    "print(\"Replace 'Python' with 'Data':\", text.replace(\"Python\", \"Data\"))\n",
    "print(\"Split into list by spaces:\", text.split())\n",
    "print(\"Find index of 'Python':\", text.find(\"Python\"))\n",
    "print(\"Check if all alphabetic:\", text.isalpha())  # Only works if no spaces\n",
    "print(\"Check if starts with 'Hello':\", text.startswith(\"Hello\"))\n",
    "print(\"Length of string:\", len(text))\n"
   ]
  },
  {
   "cell_type": "markdown",
   "id": "39ad0092-11b3-4dfa-8f58-b5ae1ea94c43",
   "metadata": {},
   "source": [
    "**Use Cases:**\n",
    "\n",
    "- Categorical Data: In data science, strings are often used for labels like gender, product names, or categories.\n",
    "- Text Analysis: Useful for Natural Language Processing (NLP) tasks, where sentences or documents are processed as strings.\n",
    "\n",
    "**Importance:** Strings are crucial for data preprocessing, feature engineering (like encoding text data into numeric form), and making data more understandable by preserving labels."
   ]
  },
  {
   "cell_type": "code",
   "execution_count": 22,
   "id": "6627675e-85b5-40ff-946f-71ecfe98f4bf",
   "metadata": {},
   "outputs": [],
   "source": [
    "# Example: Categorical label\n",
    "gender = \"Female\"\n",
    "product_name = \"Laptop\"\n"
   ]
  },
  {
   "cell_type": "markdown",
   "id": "3046ea51-4b02-462a-9fa7-4c0f400cba7f",
   "metadata": {},
   "source": [
    "## 2.4. Boolean (bool)\n",
    "\n",
    "Booleans have only two possible values: True or False. They are often used for conditional checks."
   ]
  },
  {
   "cell_type": "code",
   "execution_count": 7,
   "id": "601f61b6-9030-428c-9eca-135aecfce6ce",
   "metadata": {},
   "outputs": [
    {
     "name": "stdout",
     "output_type": "stream",
     "text": [
      "Type of is_python_fun: <class 'bool'>\n",
      "Example Boolean: True\n"
     ]
    }
   ],
   "source": [
    "# Boolean example\n",
    "is_python_fun = True\n",
    "print(\"Type of is_python_fun:\", type(is_python_fun))\n",
    "print(\"Example Boolean:\", is_python_fun)\n"
   ]
  },
  {
   "cell_type": "markdown",
   "id": "03a214f5-e91d-464a-9544-12165faa2af2",
   "metadata": {},
   "source": [
    "Booleans don’t have methods, but they are useful in logical expressions."
   ]
  },
  {
   "cell_type": "code",
   "execution_count": 13,
   "id": "cdce3f4c-f723-46bc-b9b6-c0da768843da",
   "metadata": {},
   "outputs": [
    {
     "name": "stdout",
     "output_type": "stream",
     "text": [
      "AND operation: False\n",
      "OR operation: True\n",
      "NOT operation: False\n"
     ]
    }
   ],
   "source": [
    "# Boolean operations\n",
    "is_raining = True\n",
    "has_umbrella = False\n",
    "print(\"AND operation:\", is_raining and has_umbrella)  # Returns False\n",
    "print(\"OR operation:\", is_raining or has_umbrella)    # Returns True\n",
    "print(\"NOT operation:\", not is_raining)               # Returns False\n"
   ]
  },
  {
   "cell_type": "markdown",
   "id": "1383624e-6145-42fe-9f30-15c3c4736d37",
   "metadata": {},
   "source": [
    "**Use Cases:**\n",
    "\n",
    "- Binary Features: Useful for indicating the presence or absence of a feature (e.g., is_promoted, has_missing_values).\n",
    "- Filtering Data: Used for creating conditions to filter datasets or selecting subsets.\n",
    "  \n",
    "**Importance:** Booleans are efficient for binary classifications and can streamline data filtering and logic in code."
   ]
  },
  {
   "cell_type": "code",
   "execution_count": 23,
   "id": "7fed837c-4509-4138-bce9-ec1c3c20a7c1",
   "metadata": {},
   "outputs": [],
   "source": [
    "# Example: Binary feature\n",
    "is_employee = True\n",
    "is_over_threshold = False\n"
   ]
  },
  {
   "cell_type": "markdown",
   "id": "92ef278c-c950-41df-8983-4b7c0db9dee5",
   "metadata": {},
   "source": [
    "## 2.5. List (list)\n",
    "\n",
    "Lists are ordered, mutable collections that can hold multiple data types. They allow indexing and slicing."
   ]
  },
  {
   "cell_type": "code",
   "execution_count": 8,
   "id": "6ca6ba74-c326-423a-84e3-37773d6c2a0e",
   "metadata": {},
   "outputs": [
    {
     "name": "stdout",
     "output_type": "stream",
     "text": [
      "Type of fruits: <class 'list'>\n",
      "Example List: ['apple', 'banana', 'cherry']\n",
      "First item in list: apple\n"
     ]
    }
   ],
   "source": [
    "# List example\n",
    "fruits = [\"apple\", \"banana\", \"cherry\"]\n",
    "print(\"Type of fruits:\", type(fruits))\n",
    "print(\"Example List:\", fruits)\n",
    "print(\"First item in list:\", fruits[0])\n"
   ]
  },
  {
   "cell_type": "markdown",
   "id": "ed59925a-752a-4f29-850e-0f10d6347d15",
   "metadata": {},
   "source": [
    "Lists have many methods for adding, removing, and modifying elements."
   ]
  },
  {
   "cell_type": "code",
   "execution_count": 14,
   "id": "85ad1845-02dc-4dee-92c2-6afab46eb82a",
   "metadata": {},
   "outputs": [
    {
     "name": "stdout",
     "output_type": "stream",
     "text": [
      "After append: [1, 2, 3, 4, 5, 6]\n",
      "After insert: [1, 2, 99, 3, 4, 5, 6]\n",
      "After pop: [1, 2, 99, 3, 4, 5]\n",
      "After remove: [1, 2, 3, 4, 5]\n",
      "After reverse: [5, 4, 3, 2, 1]\n",
      "After sort: [1, 2, 3, 4, 5]\n",
      "Length of list: 5\n"
     ]
    }
   ],
   "source": [
    "# List methods\n",
    "numbers = [1, 2, 3, 4, 5]\n",
    "numbers.append(6)              # Adds 6 to the end\n",
    "print(\"After append:\", numbers)\n",
    "numbers.insert(2, 99)          # Inserts 99 at index 2\n",
    "print(\"After insert:\", numbers)\n",
    "numbers.pop()                  # Removes last item\n",
    "print(\"After pop:\", numbers)\n",
    "numbers.remove(99)             # Removes first occurrence of 99\n",
    "print(\"After remove:\", numbers)\n",
    "numbers.reverse()              # Reverses the list\n",
    "print(\"After reverse:\", numbers)\n",
    "numbers.sort()                 # Sorts the list\n",
    "print(\"After sort:\", numbers)\n",
    "print(\"Length of list:\", len(numbers))\n"
   ]
  },
  {
   "cell_type": "markdown",
   "id": "7ccbd941-5213-475f-98c1-1224a2cb6604",
   "metadata": {},
   "source": [
    "**Use Cases:**\n",
    "\n",
    "- Feature Storage: Used to store features, data points, or column names.\n",
    "- Batch Processing: Lists are handy for batching data or storing results like prediction values from a model.\n",
    "  \n",
    "**Importance:** Lists offer flexibility in handling collections of data and are commonly used in iterative processes."
   ]
  },
  {
   "cell_type": "code",
   "execution_count": 24,
   "id": "0135fed5-5c23-4c4f-85f6-dee0e5b2be21",
   "metadata": {},
   "outputs": [],
   "source": [
    "# Example: Feature names in a dataset\n",
    "feature_names = [\"age\", \"income\", \"gender\", \"purchase_history\"]\n"
   ]
  },
  {
   "cell_type": "markdown",
   "id": "894f23d6-7bb5-48cd-9002-e1e9e9945685",
   "metadata": {},
   "source": [
    "## 2.6. Tuple (tuple)\n",
    "\n",
    "Tuples are similar to lists but are immutable, meaning their values cannot be changed once assigned."
   ]
  },
  {
   "cell_type": "code",
   "execution_count": 9,
   "id": "94ef6c1d-adae-4597-82db-9142c097a8e7",
   "metadata": {},
   "outputs": [
    {
     "name": "stdout",
     "output_type": "stream",
     "text": [
      "Type of colors: <class 'tuple'>\n",
      "Example Tuple: ('red', 'green', 'blue')\n",
      "Second item in tuple: green\n"
     ]
    }
   ],
   "source": [
    "# Tuple example\n",
    "colors = (\"red\", \"green\", \"blue\")\n",
    "print(\"Type of colors:\", type(colors))\n",
    "print(\"Example Tuple:\", colors)\n",
    "print(\"Second item in tuple:\", colors[1])\n"
   ]
  },
  {
   "cell_type": "markdown",
   "id": "c38a05ee-912d-4cf6-80b3-3d03855a6085",
   "metadata": {},
   "source": [
    "Tuples are immutable, so they have fewer methods, but we can use count and index."
   ]
  },
  {
   "cell_type": "code",
   "execution_count": 15,
   "id": "fb69d19c-bd8f-4235-9c9b-15047a03feab",
   "metadata": {},
   "outputs": [
    {
     "name": "stdout",
     "output_type": "stream",
     "text": [
      "Count of 'red': 2\n",
      "Index of 'blue': 2\n",
      "Length of tuple: 4\n"
     ]
    }
   ],
   "source": [
    "# Tuple methods\n",
    "colors = (\"red\", \"green\", \"blue\", \"red\")\n",
    "print(\"Count of 'red':\", colors.count(\"red\"))\n",
    "print(\"Index of 'blue':\", colors.index(\"blue\"))\n",
    "print(\"Length of tuple:\", len(colors))\n"
   ]
  },
  {
   "cell_type": "markdown",
   "id": "8402f18e-14a9-4845-89a0-2747b0f49615",
   "metadata": {},
   "source": [
    "**Use Cases:**\n",
    "\n",
    "- Fixed Data Structures: Useful for pairs of values like (latitude, longitude) or (min, max) in feature scaling.\n",
    "- Function Returns: Often used in functions that need to return multiple values.\n",
    "\n",
    "**Importance:** Tuples ensure data integrity for grouped values and are memory-efficient."
   ]
  },
  {
   "cell_type": "code",
   "execution_count": 25,
   "id": "426449cf-57a1-4bff-97b6-52f993973653",
   "metadata": {},
   "outputs": [],
   "source": [
    "# Example: Location coordinates\n",
    "location = (40.7128, -74.0060)  # (latitude, longitude)\n"
   ]
  },
  {
   "cell_type": "markdown",
   "id": "ef09e648-d123-472d-a292-267bdf2e970d",
   "metadata": {},
   "source": [
    "## 2.7. Dictionary (dict)\n",
    "\n",
    "Dictionaries store data in key-value pairs. They are mutable and unordered in versions before Python 3.7 (ordered in Python 3.7+)."
   ]
  },
  {
   "cell_type": "code",
   "execution_count": 10,
   "id": "67dfa10b-ab30-4c0b-abb3-b29e4bb602cc",
   "metadata": {},
   "outputs": [
    {
     "name": "stdout",
     "output_type": "stream",
     "text": [
      "Type of student: <class 'dict'>\n",
      "Example Dictionary: {'name': 'Alice', 'age': 20, 'grade': 'A'}\n",
      "Accessing name: Alice\n"
     ]
    }
   ],
   "source": [
    "# Dictionary example\n",
    "student = {\"name\": \"Alice\", \"age\": 20, \"grade\": \"A\"}\n",
    "print(\"Type of student:\", type(student))\n",
    "print(\"Example Dictionary:\", student)\n",
    "print(\"Accessing name:\", student[\"name\"])\n"
   ]
  },
  {
   "cell_type": "markdown",
   "id": "0dde51a7-796c-4f13-9c6d-8422b8e8f634",
   "metadata": {},
   "source": [
    "Dictionaries are very flexible and support many methods for accessing, adding, and modifying data."
   ]
  },
  {
   "cell_type": "code",
   "execution_count": 17,
   "id": "51dbc5e3-f2d8-4dec-957b-846630b5b9b2",
   "metadata": {},
   "outputs": [
    {
     "name": "stdout",
     "output_type": "stream",
     "text": [
      "Keys: dict_keys(['name', 'age', 'grade'])\n",
      "Values: dict_values(['Alice', 20, 'A'])\n",
      "Items: dict_items([('name', 'Alice'), ('age', 20), ('grade', 'A')])\n",
      "After update: {'name': 'Alice', 'age': 20, 'grade': 'A+', 'school': 'XYZ'}\n",
      "Removed age: 20\n",
      "After pop: {'name': 'Alice', 'grade': 'A+', 'school': 'XYZ'}\n",
      "Get non-existing key with default: N/A\n",
      "After clear: {}\n"
     ]
    }
   ],
   "source": [
    "# Dictionary methods\n",
    "student = {\"name\": \"Alice\", \"age\": 20, \"grade\": \"A\"}\n",
    "print(\"Keys:\", student.keys())                   # List of keys\n",
    "print(\"Values:\", student.values())               # List of values\n",
    "print(\"Items:\", student.items())                 # List of key-value pairs\n",
    "student.update({\"grade\": \"A+\", \"school\": \"XYZ\"}) # Update with new items\n",
    "print(\"After update:\", student)\n",
    "removed_age = student.pop(\"age\")                 # Removes item by key\n",
    "print(\"Removed age:\", removed_age)\n",
    "print(\"After pop:\", student)\n",
    "print(\"Get non-existing key with default:\", student.get(\"height\", \"N/A\"))\n",
    "student.clear()                                  # Clears the dictionary\n",
    "print(\"After clear:\", student)\n"
   ]
  },
  {
   "cell_type": "markdown",
   "id": "0127a392-451a-4222-ab8c-83850349f4fb",
   "metadata": {},
   "source": [
    "**Use Cases:**\n",
    "\n",
    "- Mapping and Indexing: Used to map feature names to their values or to store hyperparameters with their settings.\n",
    "- Dataframe Representation: Useful in preprocessing steps where dictionaries can define data transformations.\n",
    "\n",
    "**Importance:** Essential for organizing and accessing data efficiently, especially when data needs to be looked up by a label."
   ]
  },
  {
   "cell_type": "code",
   "execution_count": 26,
   "id": "f246e30a-e909-4e54-b63e-09af7974968e",
   "metadata": {},
   "outputs": [],
   "source": [
    "# Example: Mapping of hyperparameters for a model\n",
    "hyperparameters = {\n",
    "    \"learning_rate\": 0.01,\n",
    "    \"batch_size\": 32,\n",
    "    \"num_epochs\": 50\n",
    "}\n"
   ]
  },
  {
   "cell_type": "markdown",
   "id": "ae6d8263-fa1a-4e83-afc5-2ecebe522a62",
   "metadata": {},
   "source": [
    "## 2.8. Set (set)\n",
    "\n",
    "Sets are unordered collections of unique elements. They do not allow duplicates and are useful for membership testing."
   ]
  },
  {
   "cell_type": "code",
   "execution_count": 11,
   "id": "b7bb6359-5535-4b54-82dc-a67e134940d1",
   "metadata": {},
   "outputs": [
    {
     "name": "stdout",
     "output_type": "stream",
     "text": [
      "Type of unique_numbers: <class 'set'>\n",
      "Example Set: {1, 2, 3, 4, 5}\n"
     ]
    }
   ],
   "source": [
    "# Set example\n",
    "unique_numbers = {1, 2, 3, 4, 4, 5}\n",
    "print(\"Type of unique_numbers:\", type(unique_numbers))\n",
    "print(\"Example Set:\", unique_numbers)  # Duplicates removed\n"
   ]
  },
  {
   "cell_type": "markdown",
   "id": "835c3500-0c89-4ebd-9de5-f2d0cd1b080c",
   "metadata": {},
   "source": [
    "Sets have methods for adding and removing elements, as well as for set operations like union and intersection."
   ]
  },
  {
   "cell_type": "code",
   "execution_count": 18,
   "id": "b2f5209e-9666-4fef-ab6b-36ab2e313960",
   "metadata": {},
   "outputs": [
    {
     "name": "stdout",
     "output_type": "stream",
     "text": [
      "After add: {1, 3, 5, 7, 9}\n",
      "After remove: {1, 5, 7, 9}\n",
      "Union of sets: {1, 2, 4, 5, 6, 7, 8, 9}\n",
      "Intersection (common items): set()\n",
      "Difference (unique to odd_numbers): {1, 5, 9, 7}\n",
      "After clear: set()\n"
     ]
    }
   ],
   "source": [
    "# Set methods\n",
    "odd_numbers = {1, 3, 5, 7}\n",
    "even_numbers = {2, 4, 6, 8}\n",
    "odd_numbers.add(9)              # Adds an element\n",
    "print(\"After add:\", odd_numbers)\n",
    "odd_numbers.remove(3)           # Removes an element\n",
    "print(\"After remove:\", odd_numbers)\n",
    "print(\"Union of sets:\", odd_numbers.union(even_numbers))         # Combines sets\n",
    "print(\"Intersection (common items):\", odd_numbers.intersection(even_numbers))\n",
    "print(\"Difference (unique to odd_numbers):\", odd_numbers.difference(even_numbers))\n",
    "odd_numbers.clear()             # Clears the set\n",
    "print(\"After clear:\", odd_numbers)\n"
   ]
  },
  {
   "cell_type": "markdown",
   "id": "568d8823-6408-4376-88eb-b968b6a169ac",
   "metadata": {},
   "source": [
    "**Use Cases:**\n",
    "\n",
    "- Removing Duplicates: Useful for cleaning data where unique values are required (like unique identifiers or tags).\n",
    "- Set Operations: Handy for operations like finding intersections (common elements between two lists) or unions.\n",
    "\n",
    "**Importance:** Sets help manage unique values and make it easy to perform membership tests, which are common in data cleaning."
   ]
  },
  {
   "cell_type": "code",
   "execution_count": 27,
   "id": "9c1a56e1-83b0-4a05-ab22-1d5536b8e4e9",
   "metadata": {},
   "outputs": [],
   "source": [
    "# Example: Unique tags in a dataset\n",
    "tags = {\"data science\", \"machine learning\", \"statistics\"}\n"
   ]
  },
  {
   "cell_type": "markdown",
   "id": "9f579c77-5a28-4df4-ba03-60d9cae114ad",
   "metadata": {},
   "source": [
    "## 2.9. NoneType (None)\n",
    "\n",
    "None represents the absence of a value or a null value."
   ]
  },
  {
   "cell_type": "code",
   "execution_count": 12,
   "id": "067e6608-4678-49ec-a06c-c7c20a9ed03d",
   "metadata": {},
   "outputs": [
    {
     "name": "stdout",
     "output_type": "stream",
     "text": [
      "Type of result: <class 'NoneType'>\n",
      "Example NoneType: None\n"
     ]
    }
   ],
   "source": [
    "# NoneType example\n",
    "result = None\n",
    "print(\"Type of result:\", type(result))\n",
    "print(\"Example NoneType:\", result)\n"
   ]
  },
  {
   "cell_type": "markdown",
   "id": "1dfb7d87-2f1b-4b23-9319-e41add323703",
   "metadata": {},
   "source": [
    "None is often used as a placeholder and does not have any methods, but it's useful for conditional checks."
   ]
  },
  {
   "cell_type": "code",
   "execution_count": 19,
   "id": "fcc1eb62-eb46-409b-a4fa-a9abb80f0484",
   "metadata": {},
   "outputs": [
    {
     "name": "stdout",
     "output_type": "stream",
     "text": [
      "Result is None, so no value assigned.\n"
     ]
    }
   ],
   "source": [
    "# NoneType example\n",
    "result = None\n",
    "if result is None:\n",
    "    print(\"Result is None, so no value assigned.\")\n",
    "else:\n",
    "    print(\"Result has a value.\")\n"
   ]
  },
  {
   "cell_type": "markdown",
   "id": "7f5c75f9-520c-40ea-94c8-0e2bef0f4322",
   "metadata": {},
   "source": [
    "# 3. Summary\n",
    "\n",
    "Each data type serves a unique role in data science, from efficient storage to enabling specific operations. Understanding these types helps you choose the most effective way to represent and manipulate your data."
   ]
  }
 ],
 "metadata": {
  "kernelspec": {
   "display_name": "Python 3 (ipykernel)",
   "language": "python",
   "name": "python3"
  },
  "language_info": {
   "codemirror_mode": {
    "name": "ipython",
    "version": 3
   },
   "file_extension": ".py",
   "mimetype": "text/x-python",
   "name": "python",
   "nbconvert_exporter": "python",
   "pygments_lexer": "ipython3",
   "version": "3.12.3"
  }
 },
 "nbformat": 4,
 "nbformat_minor": 5
}
