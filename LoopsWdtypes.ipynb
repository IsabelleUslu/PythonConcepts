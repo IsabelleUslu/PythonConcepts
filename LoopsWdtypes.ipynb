{
 "cells": [
  {
   "cell_type": "markdown",
   "id": "97ace619-370a-49b2-bed3-6b340849e0de",
   "metadata": {},
   "source": [
    "# Looping Through Different Data Types in Python"
   ]
  },
  {
   "cell_type": "markdown",
   "id": "9459ebf2-63ad-4f0a-8eaf-d0d62286ed8b",
   "metadata": {},
   "source": [
    "**Introduction**\n",
    "\n",
    "In this notebook, we'll explore how to treat various data types when looping through them in Python. Understanding how each data type behaves in a loop can help us write efficient and effective code, especially when dealing with large datasets in data science.\n",
    "\n",
    "\n",
    "While loops on sets, tuples, and strings are less frequent in data science, they’re still valuable in specific scenarios. For example, strings are crucial in NLP (Natural Language Processing), sets are useful for ensuring uniqueness, and tuples are beneficial when we need fixed data structures. However, due to their specific limitations, they’re not as versatile as lists, dictionaries, and dataframes, which are more suitable for the complex data manipulation commonly required in data science."
   ]
  },
  {
   "cell_type": "markdown",
   "id": "b0e7df50-7755-4b20-98e9-de265c269a58",
   "metadata": {},
   "source": [
    "**Uses of Loops**\n",
    "\n",
    "- Iterating over data structures: Access each element in lists, dictionaries, tuples, sets, or dataframes.\n",
    "\n",
    "- Automating repetitive tasks: Perform the same operation multiple times (e.g., cleaning rows in a dataset).\n",
    "\n",
    "- Generating sequences: Create ranges or series of values.\n",
    "\n",
    "- Aggregating data: Summarize or compute metrics like sums, averages, or counts.\n",
    "\n",
    "- Condition-based processing: Apply specific operations based on conditions for each element.\n",
    "\n",
    "- Building new data structures: Generate new lists, dictionaries, or other structures based on existing data.\n",
    "\n",
    "- Parallel processing: Split tasks across multiple elements (e.g., batches in machine learning).\n",
    "\n",
    "- Data visualization: Generate multiple plots in a loop.\n",
    "\n",
    "- Batch processing: Handle data in chunks (useful for large datasets)."
   ]
  },
  {
   "cell_type": "markdown",
   "id": "f3c3bdb5-ab6a-4624-a13e-7aa37d2de7b3",
   "metadata": {},
   "source": [
    "## 1. Lists\n",
    "\n",
    "Lists are ordered collections of items. They can contain mixed data types and are mutable, meaning we can change elements within the list.\n",
    "\n",
    "**Explanation**\n",
    "\n",
    "- Lists are typically used when we need an ordered collection of items, especially when we need to process each item.\n",
    "- Example use case: Iterating over a list of numerical values to calculate the mean or sum."
   ]
  },
  {
   "cell_type": "code",
   "execution_count": null,
   "id": "db962c0b-8de5-4478-b09b-535421aa229d",
   "metadata": {},
   "outputs": [],
   "source": [
    "# Define a list of numbers\n",
    "numbers = [10, 20, 30, 40, 50]\n",
    "\n",
    "# Loop through each item in the list\n",
    "total = 0\n",
    "for num in numbers:\n",
    "    total += num\n",
    "    print(f\"Current total: {total}\")  # Updates the running total with each number\n",
    "\n",
    "# After the loop, we can calculate the average\n",
    "average = total / len(numbers)\n",
    "print(\"Average:\", average)"
   ]
  },
  {
   "cell_type": "markdown",
   "id": "486ebf43-e63d-466e-b472-f97550391335",
   "metadata": {},
   "source": [
    "## 2. Strings\n",
    "   \n",
    "Strings in Python are sequences of characters, making them iterable. When looping through a string, each iteration gives one character.\n",
    "\n",
    "**Explanation**\n",
    "\n",
    "- Strings are useful for processing each character individually.\n",
    "- Example use case: Validating or transforming individual characters in text processing."
   ]
  },
  {
   "cell_type": "code",
   "execution_count": 1,
   "id": "bf5177d2-fb35-4c79-8fb4-c02b241eeff0",
   "metadata": {},
   "outputs": [
    {
     "name": "stdout",
     "output_type": "stream",
     "text": [
      "D\n",
      "a\n",
      "t\n",
      "a\n",
      "S\n",
      "c\n",
      "i\n",
      "e\n",
      "n\n",
      "c\n",
      "e\n"
     ]
    }
   ],
   "source": [
    "# Define a string\n",
    "text = \"DataScience\"\n",
    "\n",
    "# Loop through each character in the string\n",
    "for char in text:\n",
    "    print(char)  # Prints each character in the string\n"
   ]
  },
  {
   "cell_type": "markdown",
   "id": "0363c99b-b5dc-40dd-ad34-d3dd30f6716b",
   "metadata": {},
   "source": [
    "## 3. Dictionaries\n",
    "\n",
    "Dictionaries store key-value pairs and are often used for structured data. When looping through a dictionary, you can choose to iterate over keys, values, or both.\n",
    "\n",
    "**Explanation**\n",
    "\n",
    "- Looping through dictionaries can be useful when working with structured data, like JSON files or database records.\n",
    "- Example use case: Extracting and processing specific fields from a dataset."
   ]
  },
  {
   "cell_type": "code",
   "execution_count": 3,
   "id": "e8364f32-774b-4b2f-a165-5c540b9a0540",
   "metadata": {},
   "outputs": [
    {
     "name": "stdout",
     "output_type": "stream",
     "text": [
      "name: Alice\n",
      "age: 30\n",
      "profession: Data Scientist\n"
     ]
    }
   ],
   "source": [
    "# Define a dictionary with some key-value pairs\n",
    "person = {\n",
    "    \"name\": \"Alice\",\n",
    "    \"age\": 30,\n",
    "    \"profession\": \"Data Scientist\"\n",
    "}\n",
    "\n",
    "# Loop through the dictionary keys and values\n",
    "for key, value in person.items():\n",
    "    print(f\"{key}: {value}\")  # Prints each key-value pair in the dictionary\n"
   ]
  },
  {
   "cell_type": "markdown",
   "id": "b101656e-45df-4670-a8f8-cd68eb0604b8",
   "metadata": {},
   "source": [
    "## 4. Sets \n",
    "\n",
    "Sets are unordered collections of unique items. They’re helpful when you need to avoid duplicates and perform mathematical operations like union, intersection, etc.\n",
    "\n",
    "**Explanation**\n",
    "\n",
    "- Sets are useful for ensuring each element is unique, such as filtering unique values in a list.\n",
    "- Example use case: Removing duplicate entries in a list of values."
   ]
  },
  {
   "cell_type": "code",
   "execution_count": 4,
   "id": "d1f5c982-eb52-496b-8982-96500d3959ea",
   "metadata": {},
   "outputs": [
    {
     "name": "stdout",
     "output_type": "stream",
     "text": [
      "1\n",
      "2\n",
      "3\n",
      "4\n"
     ]
    }
   ],
   "source": [
    "# Define a set of numbers with duplicates\n",
    "unique_numbers = {1, 2, 3, 4, 2, 3}\n",
    "\n",
    "# Loop through the set\n",
    "for number in unique_numbers:\n",
    "    print(number)  # Only unique numbers will be printed\n"
   ]
  },
  {
   "cell_type": "markdown",
   "id": "ea760733-7a02-48b2-a5ba-7d25785a027a",
   "metadata": {},
   "source": [
    "## 5. Tuples\n",
    "\n",
    "Tuples are similar to lists but are immutable, meaning their values cannot be changed once defined. Tuples are often used to store related pieces of information together.\n",
    "\n",
    "**Explanation**\n",
    "\n",
    "- Tuples are useful for representing structured data that doesn’t need modification.\n",
    "- Example use case: Iterating over a list of (latitude, longitude) coordinates."
   ]
  },
  {
   "cell_type": "code",
   "execution_count": 5,
   "id": "66e5fbea-f2ad-4aba-819d-80fc4b7403d5",
   "metadata": {},
   "outputs": [
    {
     "name": "stdout",
     "output_type": "stream",
     "text": [
      "40.7128\n",
      "-74.006\n"
     ]
    }
   ],
   "source": [
    "# Define a tuple of coordinates\n",
    "coordinates = (40.7128, -74.0060)\n",
    "\n",
    "# Loop through each value in the tuple\n",
    "for coord in coordinates:\n",
    "    print(coord)  # Prints each coordinate (latitude and longitude)\n"
   ]
  },
  {
   "cell_type": "markdown",
   "id": "54b38c13-3474-486b-a886-3022ba3748d0",
   "metadata": {},
   "source": [
    "## Additional Looping Exercises for lists, dictionaries and pandas DataFrames"
   ]
  },
  {
   "cell_type": "markdown",
   "id": "6c541ba7-6e93-4efd-8480-d38e14f363c3",
   "metadata": {},
   "source": [
    "In this section, we will look at how loops can be applied to lists, dictionaries, and dataframes. These examples demonstrate that loops are helpful for:\n",
    "\n",
    "- Aggregating and calculating statistics\n",
    "- Cleaning data and handling invalid values\n",
    "- Applying conditional logic on structured data in dataframes"
   ]
  },
  {
   "cell_type": "markdown",
   "id": "2b987c21-31c1-474e-a7a2-30dd188debd4",
   "metadata": {},
   "source": [
    "### Additional Examples with Lists\n",
    "\n",
    "**Example 1: Calculating Statistics on a List of Values**\n",
    "\n",
    "Lists are often used to store columns of data. For instance, if we have a list of daily temperatures, we can calculate statistics such as the average temperature, maximum, and minimum."
   ]
  },
  {
   "cell_type": "code",
   "execution_count": 6,
   "id": "fb939761-6589-430e-9db0-1c92ed7c664c",
   "metadata": {},
   "outputs": [
    {
     "name": "stdout",
     "output_type": "stream",
     "text": [
      "Average Temperature: 22.34°C\n",
      "Maximum Temperature: 25.3°C\n",
      "Minimum Temperature: 19.8°C\n"
     ]
    }
   ],
   "source": [
    "# List of daily temperatures in Celsius\n",
    "temperatures = [22.1, 23.5, 19.8, 21.0, 25.3, 24.2, 20.5]\n",
    "\n",
    "# Calculate the average, max, and min temperature\n",
    "total = 0\n",
    "for temp in temperatures:\n",
    "    total += temp\n",
    "\n",
    "average_temp = total / len(temperatures)\n",
    "max_temp = max(temperatures)\n",
    "min_temp = min(temperatures)\n",
    "\n",
    "print(f\"Average Temperature: {average_temp:.2f}°C\")\n",
    "print(f\"Maximum Temperature: {max_temp}°C\")\n",
    "print(f\"Minimum Temperature: {min_temp}°C\")\n"
   ]
  },
  {
   "cell_type": "markdown",
   "id": "1fdec350-7b17-4bf2-affa-97e24c37cb32",
   "metadata": {},
   "source": [
    "**Example 2: Cleaning Data in a List**\n",
    "\n",
    "Sometimes data can contain invalid or missing values. Using a list comprehension, we can loop through a list and replace invalid values with a placeholder or remove them."
   ]
  },
  {
   "cell_type": "code",
   "execution_count": 7,
   "id": "f4a0cdbe-9468-46cf-bcb0-0bb3cc038438",
   "metadata": {},
   "outputs": [
    {
     "name": "stdout",
     "output_type": "stream",
     "text": [
      "Cleaned Data: [4, 8, 15, 23, 42]\n"
     ]
    }
   ],
   "source": [
    "# List of values with some None entries\n",
    "data = [4, 8, None, 15, None, 23, 42]\n",
    "\n",
    "# Remove None values with a list comprehension\n",
    "cleaned_data = [x for x in data if x is not None]\n",
    "\n",
    "print(\"Cleaned Data:\", cleaned_data)\n"
   ]
  },
  {
   "cell_type": "markdown",
   "id": "e32303c4-d02f-43f1-a80a-2c1d89d4c99a",
   "metadata": {},
   "source": [
    "### Additional Examples with Dictionaries\n",
    "\n",
    "**Example 1: Aggregating Data by Categories**\n",
    "\n",
    "Dictionaries are useful for grouping and aggregating data. For example, we might have a dictionary where keys are categories (like product types) and values are lists of sales numbers."
   ]
  },
  {
   "cell_type": "code",
   "execution_count": 8,
   "id": "51b16d04-3022-4d57-9e5e-1863faca8be6",
   "metadata": {},
   "outputs": [
    {
     "name": "stdout",
     "output_type": "stream",
     "text": [
      "Total sales for electronics: 650\n",
      "Total sales for furniture: 750\n",
      "Total sales for clothing: 210\n"
     ]
    }
   ],
   "source": [
    "# Dictionary of sales data by product category\n",
    "sales_data = {\n",
    "    \"electronics\": [200, 150, 300],\n",
    "    \"furniture\": [400, 100, 250],\n",
    "    \"clothing\": [50, 70, 90]\n",
    "}\n",
    "\n",
    "# Calculate total sales per category\n",
    "for category, sales in sales_data.items():\n",
    "    total_sales = sum(sales)\n",
    "    print(f\"Total sales for {category}: {total_sales}\")\n"
   ]
  },
  {
   "cell_type": "markdown",
   "id": "011e721e-65e8-4283-8a15-4dbea12dcce1",
   "metadata": {},
   "source": [
    "**Example 2: Nested Dictionaries for Multi-Level Data**\n",
    "\n",
    "Dictionaries can also be nested to handle more complex data. Suppose we have data on students with each student’s scores in different subjects."
   ]
  },
  {
   "cell_type": "code",
   "execution_count": 9,
   "id": "cb84732e-5ca6-4c61-b9b4-8ff43be2a641",
   "metadata": {},
   "outputs": [
    {
     "name": "stdout",
     "output_type": "stream",
     "text": [
      "Alice's average score: 88.33\n",
      "Bob's average score: 81.00\n",
      "Charlie's average score: 91.67\n"
     ]
    }
   ],
   "source": [
    "# Nested dictionary of students and their subject scores\n",
    "student_scores = {\n",
    "    \"Alice\": {\"Math\": 88, \"Science\": 92, \"English\": 85},\n",
    "    \"Bob\": {\"Math\": 79, \"Science\": 84, \"English\": 80},\n",
    "    \"Charlie\": {\"Math\": 95, \"Science\": 89, \"English\": 91}\n",
    "}\n",
    "\n",
    "# Loop through students and calculate their average score\n",
    "for student, scores in student_scores.items():\n",
    "    average_score = sum(scores.values()) / len(scores)\n",
    "    print(f\"{student}'s average score: {average_score:.2f}\")\n"
   ]
  },
  {
   "cell_type": "markdown",
   "id": "fc6e531c-cd86-47f7-8c35-0c6d19fd005c",
   "metadata": {},
   "source": [
    "### Looping Through DataFrames in Data Science\n",
    "\n",
    "In data science, pandas dataframes are commonly used for data manipulation. Using loops with dataframes is typically a fallback. This is because looping through each row in a dataframe can be inefficient for large datasets. Pandas’ vectorized operations or methods like apply() are generally faster alternatives. Loops in dataframes are often reserved for cases with complex logic that can’t be easily vectorized, such as row-wise calculations that depend on multiple conditions.\n",
    "\n",
    "\n",
    "Here are a few examples of how to use loops with dataframes, although vectorized operations (using pandas functions) are usually preferred for efficiency.\n",
    "\n",
    "\n",
    "**Example 1: Iterating Over Rows with iterrows()**\n",
    "\n",
    "If you need to access each row, you can use iterrows(), which provides the index and row data as a series."
   ]
  },
  {
   "cell_type": "code",
   "execution_count": 10,
   "id": "e1c6c0fe-8b75-4b23-b850-270f3077d96a",
   "metadata": {},
   "outputs": [
    {
     "name": "stdout",
     "output_type": "stream",
     "text": [
      "Student Alice has a score of 88\n",
      "Student Bob has a score of 92\n",
      "Student Charlie has a score of 95\n"
     ]
    }
   ],
   "source": [
    "import pandas as pd\n",
    "\n",
    "# Sample data\n",
    "data = {\n",
    "    'Name': ['Alice', 'Bob', 'Charlie'],\n",
    "    'Age': [24, 27, 22],\n",
    "    'Score': [88, 92, 95]\n",
    "}\n",
    "df = pd.DataFrame(data)\n",
    "\n",
    "# Iterate over rows to print each student's name and score\n",
    "for index, row in df.iterrows():\n",
    "    print(f\"Student {row['Name']} has a score of {row['Score']}\")\n"
   ]
  },
  {
   "cell_type": "markdown",
   "id": "04567a8f-8ea1-4bd2-afee-f03c941f1b03",
   "metadata": {},
   "source": [
    "**Example 2: Applying Conditional Logic on DataFrames**\n",
    "\n",
    "Sometimes, you may want to modify the dataframe based on conditions. Here’s how you could loop through rows to apply a conditional operation."
   ]
  },
  {
   "cell_type": "code",
   "execution_count": 11,
   "id": "471e8a6c-0825-4584-ba32-6e09b8d052f7",
   "metadata": {},
   "outputs": [
    {
     "data": {
      "text/html": [
       "<div>\n",
       "<style scoped>\n",
       "    .dataframe tbody tr th:only-of-type {\n",
       "        vertical-align: middle;\n",
       "    }\n",
       "\n",
       "    .dataframe tbody tr th {\n",
       "        vertical-align: top;\n",
       "    }\n",
       "\n",
       "    .dataframe thead th {\n",
       "        text-align: right;\n",
       "    }\n",
       "</style>\n",
       "<table border=\"1\" class=\"dataframe\">\n",
       "  <thead>\n",
       "    <tr style=\"text-align: right;\">\n",
       "      <th></th>\n",
       "      <th>Name</th>\n",
       "      <th>Age</th>\n",
       "      <th>Score</th>\n",
       "    </tr>\n",
       "  </thead>\n",
       "  <tbody>\n",
       "    <tr>\n",
       "      <th>0</th>\n",
       "      <td>Alice</td>\n",
       "      <td>24</td>\n",
       "      <td>88</td>\n",
       "    </tr>\n",
       "    <tr>\n",
       "      <th>1</th>\n",
       "      <td>Bob</td>\n",
       "      <td>27</td>\n",
       "      <td>97</td>\n",
       "    </tr>\n",
       "    <tr>\n",
       "      <th>2</th>\n",
       "      <td>Charlie</td>\n",
       "      <td>22</td>\n",
       "      <td>95</td>\n",
       "    </tr>\n",
       "  </tbody>\n",
       "</table>\n",
       "</div>"
      ],
      "text/plain": [
       "      Name  Age  Score\n",
       "0    Alice   24     88\n",
       "1      Bob   27     97\n",
       "2  Charlie   22     95"
      ]
     },
     "execution_count": 11,
     "metadata": {},
     "output_type": "execute_result"
    }
   ],
   "source": [
    "# Example: Update 'Score' if 'Age' is greater than 25\n",
    "for index, row in df.iterrows():\n",
    "    if row['Age'] > 25:\n",
    "        df.at[index, 'Score'] += 5  # Increment score by 5 for students older than 25\n",
    "\n",
    "df\n"
   ]
  },
  {
   "cell_type": "markdown",
   "id": "65fe19fd-db2a-40c3-a574-18befa28a0eb",
   "metadata": {},
   "source": [
    "**Example 3: Using apply() for Column-Wise Operations**\n",
    "\n",
    "The apply() function is typically more efficient than looping and is recommended for column-wise operations."
   ]
  },
  {
   "cell_type": "code",
   "execution_count": 12,
   "id": "4e51a358-28ed-46c1-856f-f6350830cd9e",
   "metadata": {},
   "outputs": [
    {
     "data": {
      "text/html": [
       "<div>\n",
       "<style scoped>\n",
       "    .dataframe tbody tr th:only-of-type {\n",
       "        vertical-align: middle;\n",
       "    }\n",
       "\n",
       "    .dataframe tbody tr th {\n",
       "        vertical-align: top;\n",
       "    }\n",
       "\n",
       "    .dataframe thead th {\n",
       "        text-align: right;\n",
       "    }\n",
       "</style>\n",
       "<table border=\"1\" class=\"dataframe\">\n",
       "  <thead>\n",
       "    <tr style=\"text-align: right;\">\n",
       "      <th></th>\n",
       "      <th>Name</th>\n",
       "      <th>Age</th>\n",
       "      <th>Score</th>\n",
       "      <th>Grade</th>\n",
       "    </tr>\n",
       "  </thead>\n",
       "  <tbody>\n",
       "    <tr>\n",
       "      <th>0</th>\n",
       "      <td>Alice</td>\n",
       "      <td>24</td>\n",
       "      <td>88</td>\n",
       "      <td>B</td>\n",
       "    </tr>\n",
       "    <tr>\n",
       "      <th>1</th>\n",
       "      <td>Bob</td>\n",
       "      <td>27</td>\n",
       "      <td>97</td>\n",
       "      <td>A</td>\n",
       "    </tr>\n",
       "    <tr>\n",
       "      <th>2</th>\n",
       "      <td>Charlie</td>\n",
       "      <td>22</td>\n",
       "      <td>95</td>\n",
       "      <td>A</td>\n",
       "    </tr>\n",
       "  </tbody>\n",
       "</table>\n",
       "</div>"
      ],
      "text/plain": [
       "      Name  Age  Score Grade\n",
       "0    Alice   24     88     B\n",
       "1      Bob   27     97     A\n",
       "2  Charlie   22     95     A"
      ]
     },
     "execution_count": 12,
     "metadata": {},
     "output_type": "execute_result"
    }
   ],
   "source": [
    "# Define a function to grade based on score\n",
    "def grade(score):\n",
    "    if score >= 90:\n",
    "        return 'A'\n",
    "    elif score >= 80:\n",
    "        return 'B'\n",
    "    else:\n",
    "        return 'C'\n",
    "\n",
    "# Apply function to the 'Score' column\n",
    "df['Grade'] = df['Score'].apply(grade)\n",
    "\n",
    "df\n"
   ]
  },
  {
   "cell_type": "markdown",
   "id": "e6a00c65-6878-4416-8968-0aa712ced70d",
   "metadata": {},
   "source": [
    "## How about sets, tuples and strings?"
   ]
  },
  {
   "cell_type": "markdown",
   "id": "d793f202-a171-4438-bf8c-27685b4493a5",
   "metadata": {},
   "source": [
    "Looping through sets, tuples, and strings is generally less common in data science compared to lists, dictionaries, and dataframes, mainly because of their unique characteristics and limited use cases. However, here’s how and why these types might still be used:\n",
    "\n",
    "**1. Sets:**\n",
    "\n",
    "- Unique Values: Sets are primarily used when we need a collection of unique items. They’re unordered and don’t allow duplicates, which makes them useful for tasks like filtering out duplicate values in a dataset.\n",
    "\n",
    "- Common Use Cases in Data Science:\n",
    "    - Checking for unique values (e.g., unique categories in a dataset).\n",
    "    - Performing set operations like union, intersection, and difference to compare groups of data.\n",
    "      \n",
    "\n",
    "\n",
    "\n",
    "- Looping Example:\n",
    "    - While we don’t loop through sets as often, it can be useful if we need to examine each unique item. However, due to the unordered nature, they’re not used in cases where order matters."
   ]
  },
  {
   "cell_type": "code",
   "execution_count": 13,
   "id": "3f49c3bf-a6c2-46cb-9adb-89e50ea72540",
   "metadata": {},
   "outputs": [
    {
     "name": "stdout",
     "output_type": "stream",
     "text": [
      "neutral\n",
      "ham\n",
      "spam\n"
     ]
    }
   ],
   "source": [
    "unique_labels = {\"spam\", \"ham\", \"neutral\"}\n",
    "for label in unique_labels:\n",
    "    print(label)\n"
   ]
  },
  {
   "cell_type": "markdown",
   "id": "48c19d30-8852-4e09-a59b-732f7c6d2dbb",
   "metadata": {},
   "source": [
    "**2.Tuples:**\n",
    "\n",
    "- Fixed Structure: Tuples are immutable, so they’re ideal for storing fixed sets of data where values should not change, like coordinates or certain types of records.\n",
    "\n",
    "\n",
    "- Common Use Cases in Data Science:\n",
    "\n",
    "\n",
    "    - Representing data that doesn’t need modification (e.g., coordinates, configurations, multi-key groupings).\n",
    "\n",
    "    - When used as keys in dictionaries for fast lookups.\n",
    "\n",
    "- Looping Example:\n",
    "Looping is typically straightforward, especially when processing structured, unchangeable records."
   ]
  },
  {
   "cell_type": "code",
   "execution_count": 14,
   "id": "bf662cdb-18e4-4837-844c-1c6be71413f5",
   "metadata": {},
   "outputs": [
    {
     "name": "stdout",
     "output_type": "stream",
     "text": [
      "35.6895\n",
      "139.6917\n"
     ]
    }
   ],
   "source": [
    "coordinates = (35.6895, 139.6917)  # Latitude and longitude\n",
    "for coord in coordinates:\n",
    "    print(coord)\n"
   ]
  },
  {
   "cell_type": "markdown",
   "id": "57c05c68-aafe-4422-91a8-d13437245b8e",
   "metadata": {},
   "source": [
    "**3. Strings:**\n",
    "\n",
    "- Character Processing: Strings are often treated as atomic values, but looping can be useful for individual character processing, such as when parsing text.\n",
    "\n",
    "- Common Use Cases in Data Science:\n",
    "    \n",
    "    - Text cleaning, character counting, or creating n-grams in natural language processing (NLP).\n",
    "\n",
    "- Looping Example:\n",
    "\n",
    "    - Looping through characters in text for character-level processing or encoding."
   ]
  },
  {
   "cell_type": "code",
   "execution_count": 15,
   "id": "bd746c8c-0505-4c43-aae0-09f023945078",
   "metadata": {},
   "outputs": [
    {
     "name": "stdout",
     "output_type": "stream",
     "text": [
      "D\n",
      "a\n",
      "t\n",
      "a\n"
     ]
    }
   ],
   "source": [
    "text = \"Data\"\n",
    "for char in text:\n",
    "    print(char)\n"
   ]
  },
  {
   "cell_type": "code",
   "execution_count": 16,
   "id": "50802136-12ed-4d3a-925e-0694c48b0d28",
   "metadata": {},
   "outputs": [
    {
     "name": "stdout",
     "output_type": "stream",
     "text": [
      "3.12.3 | packaged by Anaconda, Inc. | (main, May  6 2024, 19:42:21) [MSC v.1916 64 bit (AMD64)]\n"
     ]
    }
   ],
   "source": [
    "import sys\n",
    "print(sys.version)\n"
   ]
  },
  {
   "cell_type": "markdown",
   "id": "39dffb36-8b78-46a3-bac4-94437ee1089b",
   "metadata": {},
   "source": [
    "## Bonus: Nested Loops\n",
    "\n",
    "**Question** - When designing a nested loop structure for a particular problem, how do we determine the structure of the loop?\n",
    "\n",
    "**Answer** - The starting point depends on the hierarchy of operations and how the data is organized. To determine where to start, consider the following steps:\n",
    "\n",
    "  1. Understand the Data Structure\n",
    "\n",
    "    Analyze the data structure you're working with. Is it:\n",
    "\n",
    "        A single list?\n",
    "        \n",
    "        A list of lists (e.g., a matrix)?\n",
    "        \n",
    "        A dictionary of lists?\n",
    "        \n",
    "        A dataframe with rows and columns?\n",
    "        \n",
    "Knowing this helps define how many levels of loops are needed and what each loop should handle."
   ]
  },
  {
   "cell_type": "markdown",
   "id": "09600810-45a8-42e0-a66a-076b753cbd4b",
   "metadata": {},
   "source": [
    "2. Define the Goal\n",
    "   \n",
    "    Clearly outline what you are trying to achieve:\n",
    "    \n",
    "        Are you iterating over all rows?\n",
    "   \n",
    "        Accessing nested elements?\n",
    "   \n",
    "        Performing operations across combinations of elements?\n",
    "   \n",
    "This will clarify the order in which you need to process data."
   ]
  },
  {
   "cell_type": "markdown",
   "id": "26869611-f66b-427b-81f1-4cc1e802f9f1",
   "metadata": {},
   "source": [
    "3. Start with the Outermost Layer\n",
    "   \n",
    "    Identify the highest-level structure that defines the primary iteration:\n",
    "    \n",
    "        For a matrix, it’s typically the rows.\n",
    "   \n",
    "        For a dictionary of lists, it might be the keys.\n",
    "   \n",
    "        The outer loop should iterate over this structure."
   ]
  },
  {
   "cell_type": "code",
   "execution_count": 17,
   "id": "e5d60017-1e35-44f1-b9e1-2963bf5da43f",
   "metadata": {},
   "outputs": [
    {
     "name": "stdout",
     "output_type": "stream",
     "text": [
      "1\n",
      "2\n",
      "3\n",
      "4\n",
      "5\n",
      "6\n"
     ]
    }
   ],
   "source": [
    "matrix = [[1, 2], [3, 4], [5, 6]] #-----> List of lists\n",
    "\n",
    "for row in matrix:  # Outer loop for rows\n",
    "    for element in row:  # Inner loop for elements in the row\n",
    "        print(element)\n"
   ]
  },
  {
   "cell_type": "markdown",
   "id": "4ad37c17-d8d2-4342-8555-2f25d68b9068",
   "metadata": {},
   "source": [
    "4. Add Nested Loops for Inner Structures\n",
    "   \n",
    "    - Once the outer loop is defined, drill down into the inner structures step by step.\n",
    "      \n",
    "    - Each nested loop should handle the next level of granularity (e.g., columns, elements, or subkeys)."
   ]
  },
  {
   "cell_type": "code",
   "execution_count": 18,
   "id": "8b1e1d81-d01c-4223-a1f4-4cb15817b4c7",
   "metadata": {},
   "outputs": [
    {
     "name": "stdout",
     "output_type": "stream",
     "text": [
      "A: 1\n",
      "A: 2\n",
      "B: 3\n",
      "B: 4\n",
      "C: 5\n",
      "C: 6\n"
     ]
    }
   ],
   "source": [
    "data = {'A': [1, 2], 'B': [3, 4], 'C': [5, 6]} #----> Dictionary of lists\n",
    "\n",
    "for key, values in data.items():  # Outer loop for keys\n",
    "    for value in values:  # Inner loop for list values\n",
    "        print(f\"{key}: {value}\")\n"
   ]
  },
  {
   "cell_type": "markdown",
   "id": "adb39483-0123-4c7c-945e-fd4b0928a58e",
   "metadata": {},
   "source": [
    "5. Think in Terms of Dependencies\n",
    "       \n",
    "    Nested loops often reflect a hierarchy of dependencies:\n",
    "    \n",
    "        - Outer loop: Handles broad tasks (e.g., iterating over rows).\n",
    "   \n",
    "        - Inner loop: Handles finer-grained tasks (e.g., iterating over columns in a row)."
   ]
  },
  {
   "cell_type": "code",
   "execution_count": 19,
   "id": "3cfec8a6-f556-4196-822a-8a93c4f567a3",
   "metadata": {},
   "outputs": [
    {
     "name": "stdout",
     "output_type": "stream",
     "text": [
      "Combination: 1, 3\n",
      "Combination: 1, 4\n",
      "Combination: 2, 3\n",
      "Combination: 2, 4\n"
     ]
    }
   ],
   "source": [
    "list1 = [1, 2]\n",
    "list2 = [3, 4]\n",
    "for item1 in list1:  # Outer loop for list1\n",
    "    for item2 in list2:  # Inner loop for list2\n",
    "        print(f\"Combination: {item1}, {item2}\")\n"
   ]
  },
  {
   "cell_type": "markdown",
   "id": "d7d229bc-ebdf-4be6-9255-0732b37d8bb4",
   "metadata": {},
   "source": [
    "6. Focus on the Order of Operations\n",
    "\n",
    "    For more complex scenarios (e.g., matrix multiplication or cartesian products):\n",
    "    \n",
    "        - Think about the logical order:\n",
    "   \n",
    "        - What needs to happen first?\n",
    "   \n",
    "        - What depends on the outer loop vs. the inner loop?\n",
    "   \n",
    "        - Ensure the logic aligns with this dependency."
   ]
  },
  {
   "cell_type": "code",
   "execution_count": 21,
   "id": "33c2df4b-f2a4-4ac9-9893-c458a640ab7d",
   "metadata": {},
   "outputs": [],
   "source": [
    "A = [[1, 2, 3],\n",
    "    [4, 5, 6]]\n",
    "\n",
    "B = [[7, 8],\n",
    "     [9, 10],\n",
    "    [11, 12]]"
   ]
  },
  {
   "cell_type": "code",
   "execution_count": 23,
   "id": "4032cc94-cfe9-4bb5-bc37-bed461497b6a",
   "metadata": {},
   "outputs": [],
   "source": [
    "result = [[0 for _ in range(len(B[0]))] for _ in range(len(A))]\n"
   ]
  },
  {
   "cell_type": "code",
   "execution_count": 28,
   "id": "ae8a55b9-807e-48a7-95b7-dc4923499e72",
   "metadata": {},
   "outputs": [
    {
     "data": {
      "text/plain": [
       "[[116, 128], [278, 308]]"
      ]
     },
     "execution_count": 28,
     "metadata": {},
     "output_type": "execute_result"
    }
   ],
   "source": [
    "for i in range(len(A)):  # Rows of A\n",
    "    for j in range(len(B[0])):  # Columns of B\n",
    "        for k in range(len(A[0])):  # Common dimension (columns of A / rows of B)\n",
    "            result[i][j] += A[i][k] * B[k][j]\n",
    "            \n",
    "result"
   ]
  },
  {
   "cell_type": "markdown",
   "id": "bd578475-f587-463b-95dc-b1368c732a8c",
   "metadata": {},
   "source": [
    "7. Test Small Pieces\n",
    "\n",
    "    Start with just the outer loop and ensure it behaves as expected.\n",
    "   \n",
    "    Gradually add inner loops, checking their output at each step."
   ]
  },
  {
   "cell_type": "code",
   "execution_count": 29,
   "id": "3b07a642-65d5-4207-8bce-1d900dba6400",
   "metadata": {},
   "outputs": [
    {
     "name": "stdout",
     "output_type": "stream",
     "text": [
      "[1, 2]\n",
      "[3, 4]\n",
      "[5, 6]\n"
     ]
    }
   ],
   "source": [
    "# Iterate over rows\n",
    "for row in matrix:\n",
    "    print(row)\n"
   ]
  },
  {
   "cell_type": "code",
   "execution_count": 30,
   "id": "df138032-cdcc-447a-bd3d-7261e6c61b8a",
   "metadata": {},
   "outputs": [
    {
     "name": "stdout",
     "output_type": "stream",
     "text": [
      "1\n",
      "2\n",
      "3\n",
      "4\n",
      "5\n",
      "6\n"
     ]
    }
   ],
   "source": [
    "# Iterate over elements in rows\n",
    "for row in matrix:\n",
    "    for element in row:\n",
    "        print(element)\n"
   ]
  },
  {
   "cell_type": "markdown",
   "id": "0c9b8bd6-9499-4677-9048-de422e00ee67",
   "metadata": {},
   "source": [
    "8. General Guideline for Nested Loops\n",
    "   \n",
    "    Outer Loop: Broadest layer or highest-level task.\n",
    "   \n",
    "    Inner Loop(s): Narrower layers or more detailed tasks.\n",
    "   \n",
    "    Base each loop on the level of data structure you’re working with or the hierarchy of the problem."
   ]
  },
  {
   "cell_type": "markdown",
   "id": "c6d6da7d-9e35-4edb-af96-5e30bcbae5a8",
   "metadata": {},
   "source": [
    "Checklist for Building Nested Loops\n",
    "\n",
    "✅ Understand your data structure and goal.\n",
    "\n",
    "✅ Identify the outermost structure to iterate over.\n",
    "\n",
    "✅ Add inner loops for finer levels of granularity.\n",
    "\n",
    "✅ Ensure the loops align with logical dependencies.\n",
    "\n",
    "✅ Test incrementally, starting with the outer loop."
   ]
  }
 ],
 "metadata": {
  "kernelspec": {
   "display_name": "Python 3 (ipykernel)",
   "language": "python",
   "name": "python3"
  },
  "language_info": {
   "codemirror_mode": {
    "name": "ipython",
    "version": 3
   },
   "file_extension": ".py",
   "mimetype": "text/x-python",
   "name": "python",
   "nbconvert_exporter": "python",
   "pygments_lexer": "ipython3",
   "version": "3.12.3"
  }
 },
 "nbformat": 4,
 "nbformat_minor": 5
}
